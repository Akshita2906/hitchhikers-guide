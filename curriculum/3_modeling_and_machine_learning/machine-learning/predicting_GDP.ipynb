{
 "cells": [
  {
   "cell_type": "markdown",
   "metadata": {
    "deletable": true,
    "editable": true
   },
   "source": [
    "# Testing Cross Validation Strategies\n",
    "Many data science projects aim for generalizable models---models that perform well on new data---such as scoring new credit card applicants or predicting who will win a football game. A common approach to modeling is to split your data, using different splits for different tasks. If you have a lot of data, you might split it into three subsets:\n",
    "\n",
    "* **Train set** for fitting candidate models\n",
    "* **Validation set** for selecting a model ('which of the fitted candidate models is best?')\n",
    "* **Test set** for assessing the selected model ('how accurate is the best model?')\n",
    "\n",
    "A more common approach is to use cross validation. Cross validation eliminates the need for a separate validation set by using the train set for training and validation:\n",
    "\n",
    "* split the train set into k folds\n",
    "* fit the model(s) on all but the kth fold and test on the kth fold\n",
    "* fit the model(s) on all but the (k-1)th fold and test on the (k-1)th fold\n",
    "* ...\n",
    "* fit the model(s) on all but the 1st fold and test on the 1st fold\n",
    "\n",
    "In both cases, we retrain the selected model on all the training and validation sets before testing.\n",
    "\n",
    "How you choose to split the data for training, validating, and testing is critical. If your train set contains information about the validation or test sets that would not be available in the real world, your model selection and assessment may be wrong. This is a type of *leakage*, and it can lead to wrong model choice and overly optimistic error estimates. \n",
    "\n",
    "We typically learn to do \"standard cross validation,\" where the splits are made randomly. That works well for independent and identically distributed data, but many (most?) real-world problems have dynamic data-generating processes that make standard CV less than ideal. You'll typically do better splitting the data in a way that mimics how the model will be used. For example, if you're trying to build a good forecasting model, you should probably split the data by time. That way you'll choose the model that would have forecasted best, rather than the model that best predicted some combination of the future and past.   \n",
    "\n",
    "This notebook presents a couple simple prediction problems with publicly available data covering a long time range. It compares several model selection and assessment strategies:\n",
    "\n",
    "* *None*: No validation set. Choose the model with the lowest training error for testing.\n",
    "* *Standard*: Choose the model with lowest error in standard CV.\n",
    "* *Standard with holdout*: Set aside the last x time as a holdout set. Use standard CV on the rest of the data to choose a model. (This is common in many of the best social science prediction papers.)\n",
    "* *Temporal with holdout*: Set aside the last x time as a holdout set. Use temporal CV on the rest of the data to choose a model.  \n",
    "* *Temporal*: Choose the model with lowest error in temporal CV.\n",
    "\n",
    "We will compare the performance of each on the following:\n",
    "\n",
    "* *Model selection*: Would the strategy have chosen the best model?\n",
    "* *Model assessment*: Would the strategy provided an accurate estimate of model error?\n",
    "\n",
    "The first example uses regression to predict annual US GDP, and the second uses classification to predict recidivism."
   ]
  },
  {
   "cell_type": "code",
   "execution_count": 1,
   "metadata": {
    "collapsed": false,
    "deletable": true,
    "editable": true
   },
   "outputs": [
    {
     "name": "stderr",
     "output_type": "stream",
     "text": [
      "/Library/Frameworks/Python.framework/Versions/3.6/lib/python3.6/site-packages/statsmodels/compat/pandas.py:56: FutureWarning: The pandas.core.datetools module is deprecated and will be removed in a future version. Please use the pandas.tseries module instead.\n",
      "  from pandas.core import datetools\n"
     ]
    }
   ],
   "source": [
    "import csv\n",
    "from itertools import product\n",
    "from multiprocessing import Pool\n",
    "\n",
    "import numpy as np\n",
    "import pandas as pd\n",
    "from plotnine import *\n",
    "from sklearn import linear_model, ensemble, metrics"
   ]
  },
  {
   "cell_type": "markdown",
   "metadata": {
    "deletable": true,
    "editable": true
   },
   "source": [
    "## Regression Example: Predicting US Gross Domestic Product\n",
    "Let's say it's December 31, 2017, and we want to predict next year's nominal US Gross Domestic Product (GDP). So we'll try to do two things:\n",
    "\n",
    "1. Choose the model that is most likely to give us an accurate estimate for 2018.\n",
    "2. Estimate how accurate we should expect that model to be in 2018, so we have a sense for how much we can trust the results.\n",
    "\n",
    "We don't know what will happen in 2018, but we do know what happened in 2017, 2016, 2015, and so on. We can simulate what would have happened if we tried fitting, validating, and testing models in the past, the same way we want to do now.  \n",
    "<!---If it's reasonable to assume [stationarity](https://en.wikipedia.org/wiki/Stationary_process) and a thin-tailed distribution (which GDP may not be, but this is an example), this historical approach can work quite well.--->\n",
    "\n",
    "Here's how we would have done if we were predicting GDP for 2017:\n",
    "\n",
    "1. Choose the model that performed best through 2016.\n",
    "2. Fit the best model on all data available through 2016, predict for 2017, and compare our prediction to the actual GDP.\n",
    "\n",
    "We can do the same thing for the year before:\n",
    "\n",
    "1. Choose the model that performed best through 2015.\n",
    "2. Fit the best model on all data available through 2016, predict for 2016, and compare our prediction to the actual GDP.\n",
    "\n",
    "And repeat again and again, each time a year earlier. We'll try all our model-selection strategies in each loop. \n",
    "\n",
    "We collected data from six sources:\n",
    "\n",
    "* [GDP](https://bea.gov/iTable/iTable.cfm?ReqID=19&step=4&isuri=1&1921=flatfiles) from the Bureau of Economic Analysis (code T10105-A)\n",
    "* [Historical oil prices](https://www.eia.gov/dnav/pet/hist/LeafHandler.ashx?n=pet&s=rwtc&f=a) from US Energy Information Administration (Cushing, OK WTI Spot Price, starts in 1986)\n",
    "* Presidential Election Year\n",
    "* Republican Administration\n",
    "* [US population](http://www.multpl.com/united-states-population/table)\n",
    "* [S&P 500 Price-Earnings Ratio](http://www.multpl.com/table)\n",
    "* A column from a random number generator\n",
    "\n",
    "Let's start by plotting GDP over time."
   ]
  },
  {
   "cell_type": "code",
   "execution_count": 2,
   "metadata": {
    "collapsed": true,
    "deletable": true,
    "editable": true
   },
   "outputs": [],
   "source": [
    "GDP_df = pd.read_csv('GDP.csv')"
   ]
  },
  {
   "cell_type": "code",
   "execution_count": 3,
   "metadata": {
    "collapsed": false,
    "deletable": true,
    "editable": true
   },
   "outputs": [
    {
     "data": {
      "image/png": "[encoded data removed]",
      "text/plain": [
       "<matplotlib.figure.Figure at 0x1174d06a0>"
      ]
     },
     "metadata": {},
     "output_type": "display_data"
    },
    {
     "data": {
      "text/plain": [
       "<ggplot: (-9223372036561932256)>"
      ]
     },
     "execution_count": 3,
     "metadata": {},
     "output_type": "execute_result"
    }
   ],
   "source": [
    "(ggplot(GDP_df, aes(x='year', y='GDP')) +\n",
    "    geom_line() +\n",
    "    ggtitle('US GDP') +\n",
    "    xlab('year') +\n",
    "    ylab('billions of $')\n",
    ")"
   ]
  },
  {
   "cell_type": "markdown",
   "metadata": {
    "deletable": true,
    "editable": true
   },
   "source": [
    "<!--Look at the dip after 2000. If you randomly assign rows to the train, validate, and test sets, your model might fit post-Great Recession data and validate/test on Great Recession data. Then the model effectively knows GDP drops before it happens, resulting in error rates that are too small for the validation and test sets.  \n",
    "\n",
    "<!--**To avoid problems like this, you should design your train/validation/test splits to mimic how you will use your model.**--> \n",
    "GDP is our target variable. I created several features. If we want to predict what GDP will be next year, we can't use next year's features. The features need to precede the target, i.e. the features need to be from this year or the past:\n",
    "\n",
    "* The year\n",
    "* Previous year's GDP\n",
    "* GDP from two years before\n",
    "* Previous year's oil price. The data only go back to 1986. I zero imputed the rest.\n",
    "* Presidential Election Year (takes a 1 if an election year and a 0 otherwise)\n",
    "* Republican Administration (takes a 1 if the president is a Republican and a 0 otherwise)\n",
    "* Previous year's population\n",
    "* Previous year's S&P 500 Price-Earnings Ratio\n",
    "* A random integer between 0 and 1000. It should only predict the outcome by chance.\n",
    "\n",
    "Here's what the data look like:"
   ]
  },
  {
   "cell_type": "code",
   "execution_count": 4,
   "metadata": {
    "collapsed": false,
    "deletable": true,
    "editable": true
   },
   "outputs": [
    {
     "data": {
      "text/html": [
       "<div>\n",
       "<style scoped>\n",
       "    .dataframe tbody tr th:only-of-type {\n",
       "        vertical-align: middle;\n",
       "    }\n",
       "\n",
       "    .dataframe tbody tr th {\n",
       "        vertical-align: top;\n",
       "    }\n",
       "\n",
       "    .dataframe thead th {\n",
       "        text-align: right;\n",
       "    }\n",
       "</style>\n",
       "<table border=\"1\" class=\"dataframe\">\n",
       "  <thead>\n",
       "    <tr style=\"text-align: right;\">\n",
       "      <th></th>\n",
       "      <th>year</th>\n",
       "      <th>GDP</th>\n",
       "      <th>GDP lag 1</th>\n",
       "      <th>GDP lag 2</th>\n",
       "      <th>Election Year</th>\n",
       "      <th>Republican Administration</th>\n",
       "      <th>oil prices lag 1</th>\n",
       "      <th>Population lag 1</th>\n",
       "      <th>S&amp;P 500 PE Ratio lag 1</th>\n",
       "      <th>Random</th>\n",
       "    </tr>\n",
       "  </thead>\n",
       "  <tbody>\n",
       "    <tr>\n",
       "      <th>0</th>\n",
       "      <td>1931</td>\n",
       "      <td>77.406</td>\n",
       "      <td>92.167</td>\n",
       "      <td>104.560</td>\n",
       "      <td>0</td>\n",
       "      <td>1</td>\n",
       "      <td>0.0</td>\n",
       "      <td>123.08</td>\n",
       "      <td>13.92</td>\n",
       "      <td>481</td>\n",
       "    </tr>\n",
       "    <tr>\n",
       "      <th>1</th>\n",
       "      <td>1932</td>\n",
       "      <td>59.532</td>\n",
       "      <td>77.406</td>\n",
       "      <td>92.167</td>\n",
       "      <td>1</td>\n",
       "      <td>1</td>\n",
       "      <td>0.0</td>\n",
       "      <td>124.04</td>\n",
       "      <td>17.00</td>\n",
       "      <td>65</td>\n",
       "    </tr>\n",
       "    <tr>\n",
       "      <th>2</th>\n",
       "      <td>1933</td>\n",
       "      <td>57.165</td>\n",
       "      <td>59.532</td>\n",
       "      <td>77.406</td>\n",
       "      <td>0</td>\n",
       "      <td>0</td>\n",
       "      <td>0.0</td>\n",
       "      <td>124.84</td>\n",
       "      <td>14.07</td>\n",
       "      <td>737</td>\n",
       "    </tr>\n",
       "    <tr>\n",
       "      <th>3</th>\n",
       "      <td>1934</td>\n",
       "      <td>66.812</td>\n",
       "      <td>57.165</td>\n",
       "      <td>59.532</td>\n",
       "      <td>0</td>\n",
       "      <td>0</td>\n",
       "      <td>0.0</td>\n",
       "      <td>125.58</td>\n",
       "      <td>17.29</td>\n",
       "      <td>682</td>\n",
       "    </tr>\n",
       "    <tr>\n",
       "      <th>4</th>\n",
       "      <td>1935</td>\n",
       "      <td>74.259</td>\n",
       "      <td>66.812</td>\n",
       "      <td>57.165</td>\n",
       "      <td>0</td>\n",
       "      <td>0</td>\n",
       "      <td>0.0</td>\n",
       "      <td>126.37</td>\n",
       "      <td>23.95</td>\n",
       "      <td>51</td>\n",
       "    </tr>\n",
       "    <tr>\n",
       "      <th>5</th>\n",
       "      <td>1936</td>\n",
       "      <td>84.854</td>\n",
       "      <td>74.259</td>\n",
       "      <td>66.812</td>\n",
       "      <td>1</td>\n",
       "      <td>0</td>\n",
       "      <td>0.0</td>\n",
       "      <td>127.25</td>\n",
       "      <td>16.25</td>\n",
       "      <td>522</td>\n",
       "    </tr>\n",
       "    <tr>\n",
       "      <th>6</th>\n",
       "      <td>1937</td>\n",
       "      <td>93.029</td>\n",
       "      <td>84.854</td>\n",
       "      <td>74.259</td>\n",
       "      <td>0</td>\n",
       "      <td>0</td>\n",
       "      <td>0.0</td>\n",
       "      <td>128.05</td>\n",
       "      <td>17.87</td>\n",
       "      <td>441</td>\n",
       "    </tr>\n",
       "    <tr>\n",
       "      <th>7</th>\n",
       "      <td>1938</td>\n",
       "      <td>87.387</td>\n",
       "      <td>93.029</td>\n",
       "      <td>84.854</td>\n",
       "      <td>0</td>\n",
       "      <td>0</td>\n",
       "      <td>0.0</td>\n",
       "      <td>128.82</td>\n",
       "      <td>16.75</td>\n",
       "      <td>694</td>\n",
       "    </tr>\n",
       "    <tr>\n",
       "      <th>8</th>\n",
       "      <td>1939</td>\n",
       "      <td>93.473</td>\n",
       "      <td>87.387</td>\n",
       "      <td>93.029</td>\n",
       "      <td>0</td>\n",
       "      <td>0</td>\n",
       "      <td>0.0</td>\n",
       "      <td>129.82</td>\n",
       "      <td>10.47</td>\n",
       "      <td>875</td>\n",
       "    </tr>\n",
       "    <tr>\n",
       "      <th>9</th>\n",
       "      <td>1940</td>\n",
       "      <td>102.946</td>\n",
       "      <td>93.473</td>\n",
       "      <td>87.387</td>\n",
       "      <td>1</td>\n",
       "      <td>0</td>\n",
       "      <td>0.0</td>\n",
       "      <td>130.88</td>\n",
       "      <td>18.94</td>\n",
       "      <td>778</td>\n",
       "    </tr>\n",
       "    <tr>\n",
       "      <th>10</th>\n",
       "      <td>1941</td>\n",
       "      <td>129.356</td>\n",
       "      <td>102.946</td>\n",
       "      <td>93.473</td>\n",
       "      <td>0</td>\n",
       "      <td>0</td>\n",
       "      <td>0.0</td>\n",
       "      <td>132.12</td>\n",
       "      <td>13.23</td>\n",
       "      <td>11</td>\n",
       "    </tr>\n",
       "    <tr>\n",
       "      <th>11</th>\n",
       "      <td>1942</td>\n",
       "      <td>165.997</td>\n",
       "      <td>129.356</td>\n",
       "      <td>102.946</td>\n",
       "      <td>0</td>\n",
       "      <td>0</td>\n",
       "      <td>0.0</td>\n",
       "      <td>133.40</td>\n",
       "      <td>10.05</td>\n",
       "      <td>908</td>\n",
       "    </tr>\n",
       "    <tr>\n",
       "      <th>12</th>\n",
       "      <td>1943</td>\n",
       "      <td>203.122</td>\n",
       "      <td>165.997</td>\n",
       "      <td>129.356</td>\n",
       "      <td>0</td>\n",
       "      <td>0</td>\n",
       "      <td>0.0</td>\n",
       "      <td>134.86</td>\n",
       "      <td>7.97</td>\n",
       "      <td>778</td>\n",
       "    </tr>\n",
       "    <tr>\n",
       "      <th>13</th>\n",
       "      <td>1944</td>\n",
       "      <td>224.550</td>\n",
       "      <td>203.122</td>\n",
       "      <td>165.997</td>\n",
       "      <td>1</td>\n",
       "      <td>0</td>\n",
       "      <td>0.0</td>\n",
       "      <td>136.74</td>\n",
       "      <td>9.70</td>\n",
       "      <td>804</td>\n",
       "    </tr>\n",
       "    <tr>\n",
       "      <th>14</th>\n",
       "      <td>1945</td>\n",
       "      <td>228.173</td>\n",
       "      <td>224.550</td>\n",
       "      <td>203.122</td>\n",
       "      <td>0</td>\n",
       "      <td>0</td>\n",
       "      <td>0.0</td>\n",
       "      <td>138.40</td>\n",
       "      <td>12.61</td>\n",
       "      <td>681</td>\n",
       "    </tr>\n",
       "  </tbody>\n",
       "</table>\n",
       "</div>"
      ],
      "text/plain": [
       "    year      GDP  GDP lag 1  GDP lag 2  Election Year  \\\n",
       "0   1931   77.406     92.167    104.560              0   \n",
       "1   1932   59.532     77.406     92.167              1   \n",
       "2   1933   57.165     59.532     77.406              0   \n",
       "3   1934   66.812     57.165     59.532              0   \n",
       "4   1935   74.259     66.812     57.165              0   \n",
       "5   1936   84.854     74.259     66.812              1   \n",
       "6   1937   93.029     84.854     74.259              0   \n",
       "7   1938   87.387     93.029     84.854              0   \n",
       "8   1939   93.473     87.387     93.029              0   \n",
       "9   1940  102.946     93.473     87.387              1   \n",
       "10  1941  129.356    102.946     93.473              0   \n",
       "11  1942  165.997    129.356    102.946              0   \n",
       "12  1943  203.122    165.997    129.356              0   \n",
       "13  1944  224.550    203.122    165.997              1   \n",
       "14  1945  228.173    224.550    203.122              0   \n",
       "\n",
       "    Republican Administration  oil prices lag 1  Population lag 1  \\\n",
       "0                           1               0.0            123.08   \n",
       "1                           1               0.0            124.04   \n",
       "2                           0               0.0            124.84   \n",
       "3                           0               0.0            125.58   \n",
       "4                           0               0.0            126.37   \n",
       "5                           0               0.0            127.25   \n",
       "6                           0               0.0            128.05   \n",
       "7                           0               0.0            128.82   \n",
       "8                           0               0.0            129.82   \n",
       "9                           0               0.0            130.88   \n",
       "10                          0               0.0            132.12   \n",
       "11                          0               0.0            133.40   \n",
       "12                          0               0.0            134.86   \n",
       "13                          0               0.0            136.74   \n",
       "14                          0               0.0            138.40   \n",
       "\n",
       "    S&P 500 PE Ratio lag 1  Random  \n",
       "0                    13.92     481  \n",
       "1                    17.00      65  \n",
       "2                    14.07     737  \n",
       "3                    17.29     682  \n",
       "4                    23.95      51  \n",
       "5                    16.25     522  \n",
       "6                    17.87     441  \n",
       "7                    16.75     694  \n",
       "8                    10.47     875  \n",
       "9                    18.94     778  \n",
       "10                   13.23      11  \n",
       "11                   10.05     908  \n",
       "12                    7.97     778  \n",
       "13                    9.70     804  \n",
       "14                   12.61     681  "
      ]
     },
     "execution_count": 4,
     "metadata": {},
     "output_type": "execute_result"
    }
   ],
   "source": [
    "GDP_df.head(n=15)"
   ]
  },
  {
   "cell_type": "markdown",
   "metadata": {
    "deletable": true,
    "editable": true
   },
   "source": [
    "How many observations do the models have for fitting?"
   ]
  },
  {
   "cell_type": "code",
   "execution_count": 5,
   "metadata": {
    "collapsed": false,
    "deletable": true,
    "editable": true
   },
   "outputs": [
    {
     "data": {
      "text/plain": [
       "87"
      ]
     },
     "execution_count": 5,
     "metadata": {},
     "output_type": "execute_result"
    }
   ],
   "source": [
    "GDP_df.shape[0]"
   ]
  },
  {
   "cell_type": "markdown",
   "metadata": {
    "deletable": true,
    "editable": true
   },
   "source": [
    "Let's define the features and target: "
   ]
  },
  {
   "cell_type": "code",
   "execution_count": 6,
   "metadata": {
    "collapsed": true,
    "deletable": true,
    "editable": true
   },
   "outputs": [],
   "source": [
    "X_cols = ['year', 'GDP lag 1', 'GDP lag 2', 'Election Year', 'Republican Administration',\n",
    "          'oil prices lag 1', 'Population lag 1', 'S&P 500 PE Ratio lag 1', 'Random']\n",
    "y_cols = 'GDP'"
   ]
  },
  {
   "cell_type": "markdown",
   "metadata": {
    "deletable": true,
    "editable": true
   },
   "source": [
    "In practice, we can try [hundreds](https://github.com/rayidghani/magicloops/blob/master/mlfunctions.py) or even thousands of model types. To keep things simple, we'll try four here:\n",
    "\n",
    "* Ordinary least squares (with an intercept)\n",
    "* Ridge regression (OLS with an L2 penalty on the coefficients. For this exercise, I decided to try a penalty of 100.)\n",
    "* Elasticnet (OLS with L1 and L2 penalty terms on the coefficients. For this exercise, I decided to try a penalty of 100 and equal weights on the L1 and L2 penalty terms.)\n",
    "* Random forest (10,000 trees, max depth of 5, max features of 5)"
   ]
  },
  {
   "cell_type": "code",
   "execution_count": 7,
   "metadata": {
    "collapsed": true,
    "deletable": true,
    "editable": true
   },
   "outputs": [],
   "source": [
    "clfs = {\n",
    "    'ols': linear_model.LinearRegression(),\n",
    "    'ridge': linear_model.Ridge(alpha=100),\n",
    "    'elastic': linear_model.ElasticNet(alpha=100)#,\n",
    "    #'random_forest': ensemble.RandomForestRegressor(n_estimators=10000, max_depth=5, max_features=5)\n",
    "}"
   ]
  },
  {
   "cell_type": "markdown",
   "metadata": {
    "deletable": true,
    "editable": true
   },
   "source": [
    "We need to define the range of years for the test sets. Although the data begin in the early 1930s, our test sets begin in the 1940s. One of our models uses OLS, which requires at least as many rows of data as columns to fit the model. We have 9 predictors (see `X_cols`) plus an intercept, so we need at least 10 rows to fit the model. We get enough rows using 1931 through 1940.\n",
    "\n",
    "We also need an extra row (year) for validation -- we'll use 1941 for that -- so the first possible test year is 1942. (The results will probably be terrible, given how little training data we had and our model selection is based on a single observation.)"
   ]
  },
  {
   "cell_type": "code",
   "execution_count": 8,
   "metadata": {
    "collapsed": true,
    "deletable": true,
    "editable": true
   },
   "outputs": [],
   "source": [
    "test_begin_year = 1942\n",
    "test_end_year = 1950  # short for rapid testing\n",
    "test_years = range(test_begin_year, test_end_year+1)"
   ]
  },
  {
   "cell_type": "markdown",
   "metadata": {
    "deletable": true,
    "editable": true
   },
   "source": [
    "A couple of validation-set rules:\n",
    "\n",
    "1. Validation set labels should precede the test set labels\n",
    "2. For temporal cross validation, validation set labels should follow train set labels. \n",
    "\n",
    "On #2, Standard cross validation can use 1931 - 1940 GDPs as validation sets, but temporal cross validation cannot, given the requirement of OLS stated above."
   ]
  },
  {
   "cell_type": "code",
   "execution_count": 9,
   "metadata": {
    "collapsed": true,
    "deletable": true,
    "editable": true
   },
   "outputs": [],
   "source": [
    "temporal_validation_years = range(test_begin_year-1, test_end_year)\n",
    "standard_validation_years = range(1931, test_end_year)"
   ]
  },
  {
   "cell_type": "markdown",
   "metadata": {
    "deletable": true,
    "editable": true
   },
   "source": [
    "To visualize the difference between the the two CV techniques, assume it's 1942 and we want to predict GDP for 1943.\n",
    "\n",
    "#### Example comparison:   \n",
    "Standard CV can use 1931 - 1942 for validation years.\n",
    "* Standard CV produces the following validation and train sets\n",
    "    * Validation: 1931, Training: 1932 - 1942\n",
    "    * Validation: 1932, Training: 1931 & 1933 - 1942\n",
    "    * Validation: 1933, Training: 1931 - 1932 & 1934 - 1942\n",
    "    * Validation: 1934, Training: 1931 - 1933 & 1935 - 1942\n",
    "    * Validation: 1935, Training: 1931 - 1934 & 1936 - 1942\n",
    "    * Validation: 1936, Training: 1931 - 1935 & 1937 - 1942\n",
    "    * Validation: 1937, Training: 1931 - 1936 & 1938 - 1942\n",
    "    * Validation: 1938, Training: 1931 - 1937 & 1939 - 1942\n",
    "    * Validation: 1939, Training: 1931 - 1938 & 1940 - 1942\n",
    "    * Validation: 1940, Training: 1931 - 1939 & 1941 - 1942\n",
    "    * Validation: 1941, Training: 1931 - 1940 & 1942\n",
    "    * Validation: 1942, Training: 1931 - 1941\n",
    "         \n",
    "         \n",
    "Temporal CV can use 1941 - 1942 for validation years.\n",
    "* Temporal CV produces the following validation and train sets\n",
    "    * Validation: 1941, Training: 1931 - 1940\n",
    "    * Validation: 1942, Training: 1931 - 1941\n",
    "    \n",
    "Note that the validation errors on each fold will converge toward the later years of the training set, as the training and validation data become more similar. Our leave-one-out CV strategy and temporal CV will give exactly the same results for the 1942 validation fold because the training (1931-1941) and validation (1942) data are the same. \n",
    "\n",
    "You'll almost always want to choose a validation and testing strategy that most closely mimics how your model will be used. If you don't, you'll choose a model that performs well for a different problem than the one you're trying to solve. In this example, where you want to predict GDP for 1951, you should choose temporal cross validation because you don't have data from after 1950 (in our hypothetical). Training the model on future data and testing on the past is cheating because the future contains information about the past. As a result, standard cross validation will tend to give errors that are too small.  "
   ]
  },
  {
   "cell_type": "markdown",
   "metadata": {
    "deletable": true,
    "editable": true
   },
   "source": [
    "## Standard Cross Validation"
   ]
  },
  {
   "cell_type": "code",
   "execution_count": 37,
   "metadata": {
    "collapsed": true,
    "deletable": true,
    "editable": true
   },
   "outputs": [],
   "source": [
    "def standard_etl_fit_evaluate(df, test_year, validation_year, model):\n",
    "    \n",
    "    if validation_year < test_year:\n",
    "        \n",
    "        try:\n",
    "            cv_start = 1931\n",
    "            cv_end = test_year - 1\n",
    "            \n",
    "            # prep validation data\n",
    "            df_validation = df[df.year == validation_year]\n",
    "            X_validation = df_validation[X_cols]\n",
    "            y_validation = df_validation[y_cols]\n",
    "\n",
    "            # prep training data\n",
    "            df_standard_train = df[(df.year != validation_year) & (df.year < test_year)]\n",
    "            X_standard_train = df_standard_train[X_cols]\n",
    "            y_standard_train = np.ravel(df_standard_train[y_cols])\n",
    "\n",
    "            # fit the models\n",
    "            clf = clfs[model]\n",
    "            clf.fit(X_standard_train, y_standard_train)\n",
    "            standard_train_error = metrics.mean_squared_error(y_standard_train, clf.predict(X_standard_train))\n",
    "            standard_validation_error = metrics.mean_squared_error(y_validation, clf.predict(X_validation))\n",
    "\n",
    "            # return the results\n",
    "            return(cv_start, cv_end, validation_year, model, standard_train_error, standard_validation_error)\n",
    "        \n",
    "        except:\n",
    "            pass"
   ]
  },
  {
   "cell_type": "code",
   "execution_count": 38,
   "metadata": {
    "collapsed": false,
    "deletable": true,
    "editable": true
   },
   "outputs": [],
   "source": [
    "import warnings\n",
    "warnings.filterwarnings(action=\"ignore\", module=\"scipy\", message=\"^internal gelsd\")"
   ]
  },
  {
   "cell_type": "markdown",
   "metadata": {},
   "source": [
    "The cross validation requires training the models many times over. This can either be done sequentially or with parallelization. Both are demonstrated below and produce the same results. You can change with method is used by changing the boolean `parallel`."
   ]
  },
  {
   "cell_type": "code",
   "execution_count": 39,
   "metadata": {
    "collapsed": true
   },
   "outputs": [],
   "source": [
    "parallel = True\n",
    "\n",
    "if parallel:\n",
    "    pool = Pool()\n",
    "    standard_cv_results = pool.starmap(standard_etl_fit_evaluate, product([GDP_df], test_years, standard_validation_years, clfs))\n",
    "    standard_cv_results_df = pd.DataFrame([x for x in standard_cv_results if x is not None],\n",
    "                                  columns=['cv_start', 'cv_end', 'validation_year', \n",
    "                                           'model', 'train_error', 'validation_error'])\n",
    "    pool.close()\n",
    "    \n",
    "else:\n",
    "    standard_cv_results = []\n",
    "    for test_yr in test_years:\n",
    "        for validation_yr in [year for year in standard_validation_years if year < test_yr]:\n",
    "            for model in clfs:\n",
    "                results = standard_etl_fit_evaluate(GDP_df, test_yr, validation_yr, model)\n",
    "                standard_cv_results.append(results)\n",
    "                \n",
    "    standard_cv_results_df = pd.DataFrame(standard_cv_results,\n",
    "                                  columns=['cv_start', 'cv_end', 'validation_year', \n",
    "                                           'model', 'train_error', 'validation_error'])\n",
    "    "
   ]
  },
  {
   "cell_type": "code",
   "execution_count": 41,
   "metadata": {
    "collapsed": false,
    "deletable": true,
    "editable": true
   },
   "outputs": [],
   "source": [
    "standard_cv_results_df.sort_values('cv_end')\n",
    "standard_cv_results_df['cv_strategy'] = 'standard'"
   ]
  },
  {
   "cell_type": "code",
   "execution_count": 51,
   "metadata": {
    "collapsed": false,
    "deletable": true,
    "editable": true
   },
   "outputs": [
    {
     "data": {
      "text/html": [
       "<div>\n",
       "<style scoped>\n",
       "    .dataframe tbody tr th:only-of-type {\n",
       "        vertical-align: middle;\n",
       "    }\n",
       "\n",
       "    .dataframe tbody tr th {\n",
       "        vertical-align: top;\n",
       "    }\n",
       "\n",
       "    .dataframe thead th {\n",
       "        text-align: right;\n",
       "    }\n",
       "</style>\n",
       "<table border=\"1\" class=\"dataframe\">\n",
       "  <thead>\n",
       "    <tr style=\"text-align: right;\">\n",
       "      <th></th>\n",
       "      <th>cv_start</th>\n",
       "      <th>cv_end</th>\n",
       "      <th>validation_year</th>\n",
       "      <th>model</th>\n",
       "      <th>train_error</th>\n",
       "      <th>validation_error</th>\n",
       "      <th>cv_strategy</th>\n",
       "    </tr>\n",
       "  </thead>\n",
       "  <tbody>\n",
       "    <tr>\n",
       "      <th>0</th>\n",
       "      <td>1931</td>\n",
       "      <td>1941</td>\n",
       "      <td>1931</td>\n",
       "      <td>ols</td>\n",
       "      <td>2.097574</td>\n",
       "      <td>408.655534</td>\n",
       "      <td>standard</td>\n",
       "    </tr>\n",
       "    <tr>\n",
       "      <th>1</th>\n",
       "      <td>1931</td>\n",
       "      <td>1941</td>\n",
       "      <td>1931</td>\n",
       "      <td>ridge</td>\n",
       "      <td>42.502346</td>\n",
       "      <td>3.360430</td>\n",
       "      <td>standard</td>\n",
       "    </tr>\n",
       "    <tr>\n",
       "      <th>2</th>\n",
       "      <td>1931</td>\n",
       "      <td>1941</td>\n",
       "      <td>1931</td>\n",
       "      <td>elastic</td>\n",
       "      <td>151.073179</td>\n",
       "      <td>302.451349</td>\n",
       "      <td>standard</td>\n",
       "    </tr>\n",
       "    <tr>\n",
       "      <th>3</th>\n",
       "      <td>1931</td>\n",
       "      <td>1941</td>\n",
       "      <td>1932</td>\n",
       "      <td>ols</td>\n",
       "      <td>2.097574</td>\n",
       "      <td>408.655534</td>\n",
       "      <td>standard</td>\n",
       "    </tr>\n",
       "    <tr>\n",
       "      <th>4</th>\n",
       "      <td>1931</td>\n",
       "      <td>1941</td>\n",
       "      <td>1932</td>\n",
       "      <td>ridge</td>\n",
       "      <td>29.332626</td>\n",
       "      <td>445.256076</td>\n",
       "      <td>standard</td>\n",
       "    </tr>\n",
       "    <tr>\n",
       "      <th>5</th>\n",
       "      <td>1931</td>\n",
       "      <td>1941</td>\n",
       "      <td>1932</td>\n",
       "      <td>elastic</td>\n",
       "      <td>120.570632</td>\n",
       "      <td>1098.821617</td>\n",
       "      <td>standard</td>\n",
       "    </tr>\n",
       "    <tr>\n",
       "      <th>6</th>\n",
       "      <td>1931</td>\n",
       "      <td>1941</td>\n",
       "      <td>1933</td>\n",
       "      <td>ols</td>\n",
       "      <td>5.368010</td>\n",
       "      <td>661.342432</td>\n",
       "      <td>standard</td>\n",
       "    </tr>\n",
       "    <tr>\n",
       "      <th>7</th>\n",
       "      <td>1931</td>\n",
       "      <td>1941</td>\n",
       "      <td>1933</td>\n",
       "      <td>ridge</td>\n",
       "      <td>40.631712</td>\n",
       "      <td>3.074484</td>\n",
       "      <td>standard</td>\n",
       "    </tr>\n",
       "    <tr>\n",
       "      <th>8</th>\n",
       "      <td>1931</td>\n",
       "      <td>1941</td>\n",
       "      <td>1933</td>\n",
       "      <td>elastic</td>\n",
       "      <td>192.487312</td>\n",
       "      <td>237.894936</td>\n",
       "      <td>standard</td>\n",
       "    </tr>\n",
       "    <tr>\n",
       "      <th>9</th>\n",
       "      <td>1931</td>\n",
       "      <td>1941</td>\n",
       "      <td>1934</td>\n",
       "      <td>ols</td>\n",
       "      <td>0.003229</td>\n",
       "      <td>939.443373</td>\n",
       "      <td>standard</td>\n",
       "    </tr>\n",
       "    <tr>\n",
       "      <th>10</th>\n",
       "      <td>1931</td>\n",
       "      <td>1941</td>\n",
       "      <td>1934</td>\n",
       "      <td>ridge</td>\n",
       "      <td>37.901988</td>\n",
       "      <td>49.025760</td>\n",
       "      <td>standard</td>\n",
       "    </tr>\n",
       "    <tr>\n",
       "      <th>11</th>\n",
       "      <td>1931</td>\n",
       "      <td>1941</td>\n",
       "      <td>1934</td>\n",
       "      <td>elastic</td>\n",
       "      <td>188.909882</td>\n",
       "      <td>0.359265</td>\n",
       "      <td>standard</td>\n",
       "    </tr>\n",
       "    <tr>\n",
       "      <th>12</th>\n",
       "      <td>1931</td>\n",
       "      <td>1941</td>\n",
       "      <td>1935</td>\n",
       "      <td>ols</td>\n",
       "      <td>3.523377</td>\n",
       "      <td>130.737037</td>\n",
       "      <td>standard</td>\n",
       "    </tr>\n",
       "    <tr>\n",
       "      <th>13</th>\n",
       "      <td>1931</td>\n",
       "      <td>1941</td>\n",
       "      <td>1935</td>\n",
       "      <td>ridge</td>\n",
       "      <td>40.867106</td>\n",
       "      <td>19.399120</td>\n",
       "      <td>standard</td>\n",
       "    </tr>\n",
       "    <tr>\n",
       "      <th>14</th>\n",
       "      <td>1931</td>\n",
       "      <td>1941</td>\n",
       "      <td>1935</td>\n",
       "      <td>elastic</td>\n",
       "      <td>191.740806</td>\n",
       "      <td>5.651398</td>\n",
       "      <td>standard</td>\n",
       "    </tr>\n",
       "    <tr>\n",
       "      <th>15</th>\n",
       "      <td>1931</td>\n",
       "      <td>1941</td>\n",
       "      <td>1936</td>\n",
       "      <td>ols</td>\n",
       "      <td>4.975552</td>\n",
       "      <td>223.832336</td>\n",
       "      <td>standard</td>\n",
       "    </tr>\n",
       "    <tr>\n",
       "      <th>16</th>\n",
       "      <td>1931</td>\n",
       "      <td>1941</td>\n",
       "      <td>1936</td>\n",
       "      <td>ridge</td>\n",
       "      <td>41.413261</td>\n",
       "      <td>3.143357</td>\n",
       "      <td>standard</td>\n",
       "    </tr>\n",
       "    <tr>\n",
       "      <th>17</th>\n",
       "      <td>1931</td>\n",
       "      <td>1941</td>\n",
       "      <td>1936</td>\n",
       "      <td>elastic</td>\n",
       "      <td>183.869667</td>\n",
       "      <td>38.260812</td>\n",
       "      <td>standard</td>\n",
       "    </tr>\n",
       "    <tr>\n",
       "      <th>18</th>\n",
       "      <td>1931</td>\n",
       "      <td>1941</td>\n",
       "      <td>1937</td>\n",
       "      <td>ols</td>\n",
       "      <td>6.138055</td>\n",
       "      <td>3.707578</td>\n",
       "      <td>standard</td>\n",
       "    </tr>\n",
       "    <tr>\n",
       "      <th>19</th>\n",
       "      <td>1931</td>\n",
       "      <td>1941</td>\n",
       "      <td>1937</td>\n",
       "      <td>ridge</td>\n",
       "      <td>41.212084</td>\n",
       "      <td>0.049142</td>\n",
       "      <td>standard</td>\n",
       "    </tr>\n",
       "    <tr>\n",
       "      <th>20</th>\n",
       "      <td>1931</td>\n",
       "      <td>1941</td>\n",
       "      <td>1937</td>\n",
       "      <td>elastic</td>\n",
       "      <td>187.693161</td>\n",
       "      <td>40.702790</td>\n",
       "      <td>standard</td>\n",
       "    </tr>\n",
       "    <tr>\n",
       "      <th>21</th>\n",
       "      <td>1931</td>\n",
       "      <td>1941</td>\n",
       "      <td>1938</td>\n",
       "      <td>ols</td>\n",
       "      <td>0.515393</td>\n",
       "      <td>112.880750</td>\n",
       "      <td>standard</td>\n",
       "    </tr>\n",
       "    <tr>\n",
       "      <th>22</th>\n",
       "      <td>1931</td>\n",
       "      <td>1941</td>\n",
       "      <td>1938</td>\n",
       "      <td>ridge</td>\n",
       "      <td>24.301822</td>\n",
       "      <td>211.853067</td>\n",
       "      <td>standard</td>\n",
       "    </tr>\n",
       "    <tr>\n",
       "      <th>23</th>\n",
       "      <td>1931</td>\n",
       "      <td>1941</td>\n",
       "      <td>1938</td>\n",
       "      <td>elastic</td>\n",
       "      <td>181.966869</td>\n",
       "      <td>36.402587</td>\n",
       "      <td>standard</td>\n",
       "    </tr>\n",
       "    <tr>\n",
       "      <th>24</th>\n",
       "      <td>1931</td>\n",
       "      <td>1941</td>\n",
       "      <td>1939</td>\n",
       "      <td>ols</td>\n",
       "      <td>0.871350</td>\n",
       "      <td>361.122282</td>\n",
       "      <td>standard</td>\n",
       "    </tr>\n",
       "    <tr>\n",
       "      <th>25</th>\n",
       "      <td>1931</td>\n",
       "      <td>1941</td>\n",
       "      <td>1939</td>\n",
       "      <td>ridge</td>\n",
       "      <td>41.896615</td>\n",
       "      <td>5.896568</td>\n",
       "      <td>standard</td>\n",
       "    </tr>\n",
       "    <tr>\n",
       "      <th>26</th>\n",
       "      <td>1931</td>\n",
       "      <td>1941</td>\n",
       "      <td>1939</td>\n",
       "      <td>elastic</td>\n",
       "      <td>188.855059</td>\n",
       "      <td>68.118640</td>\n",
       "      <td>standard</td>\n",
       "    </tr>\n",
       "    <tr>\n",
       "      <th>27</th>\n",
       "      <td>1931</td>\n",
       "      <td>1941</td>\n",
       "      <td>1940</td>\n",
       "      <td>ols</td>\n",
       "      <td>0.375690</td>\n",
       "      <td>2624.423333</td>\n",
       "      <td>standard</td>\n",
       "    </tr>\n",
       "    <tr>\n",
       "      <th>28</th>\n",
       "      <td>1931</td>\n",
       "      <td>1941</td>\n",
       "      <td>1940</td>\n",
       "      <td>ridge</td>\n",
       "      <td>38.614315</td>\n",
       "      <td>41.504163</td>\n",
       "      <td>standard</td>\n",
       "    </tr>\n",
       "    <tr>\n",
       "      <th>29</th>\n",
       "      <td>1931</td>\n",
       "      <td>1941</td>\n",
       "      <td>1940</td>\n",
       "      <td>elastic</td>\n",
       "      <td>186.393270</td>\n",
       "      <td>204.996164</td>\n",
       "      <td>standard</td>\n",
       "    </tr>\n",
       "    <tr>\n",
       "      <th>30</th>\n",
       "      <td>1931</td>\n",
       "      <td>1941</td>\n",
       "      <td>1941</td>\n",
       "      <td>ols</td>\n",
       "      <td>1.492432</td>\n",
       "      <td>3037.728767</td>\n",
       "      <td>standard</td>\n",
       "    </tr>\n",
       "    <tr>\n",
       "      <th>31</th>\n",
       "      <td>1931</td>\n",
       "      <td>1941</td>\n",
       "      <td>1941</td>\n",
       "      <td>ridge</td>\n",
       "      <td>18.648039</td>\n",
       "      <td>1212.469405</td>\n",
       "      <td>standard</td>\n",
       "    </tr>\n",
       "    <tr>\n",
       "      <th>32</th>\n",
       "      <td>1931</td>\n",
       "      <td>1941</td>\n",
       "      <td>1941</td>\n",
       "      <td>elastic</td>\n",
       "      <td>108.158942</td>\n",
       "      <td>2547.322039</td>\n",
       "      <td>standard</td>\n",
       "    </tr>\n",
       "    <tr>\n",
       "      <th>33</th>\n",
       "      <td>1931</td>\n",
       "      <td>1942</td>\n",
       "      <td>1931</td>\n",
       "      <td>ols</td>\n",
       "      <td>1.985419</td>\n",
       "      <td>324.586291</td>\n",
       "      <td>standard</td>\n",
       "    </tr>\n",
       "    <tr>\n",
       "      <th>34</th>\n",
       "      <td>1931</td>\n",
       "      <td>1942</td>\n",
       "      <td>1931</td>\n",
       "      <td>ridge</td>\n",
       "      <td>50.827665</td>\n",
       "      <td>36.200133</td>\n",
       "      <td>standard</td>\n",
       "    </tr>\n",
       "    <tr>\n",
       "      <th>35</th>\n",
       "      <td>1931</td>\n",
       "      <td>1942</td>\n",
       "      <td>1931</td>\n",
       "      <td>elastic</td>\n",
       "      <td>148.610573</td>\n",
       "      <td>563.235916</td>\n",
       "      <td>standard</td>\n",
       "    </tr>\n",
       "    <tr>\n",
       "      <th>36</th>\n",
       "      <td>1931</td>\n",
       "      <td>1942</td>\n",
       "      <td>1932</td>\n",
       "      <td>ols</td>\n",
       "      <td>1.985419</td>\n",
       "      <td>324.586291</td>\n",
       "      <td>standard</td>\n",
       "    </tr>\n",
       "    <tr>\n",
       "      <th>37</th>\n",
       "      <td>1931</td>\n",
       "      <td>1942</td>\n",
       "      <td>1932</td>\n",
       "      <td>ridge</td>\n",
       "      <td>46.769468</td>\n",
       "      <td>133.282761</td>\n",
       "      <td>standard</td>\n",
       "    </tr>\n",
       "    <tr>\n",
       "      <th>38</th>\n",
       "      <td>1931</td>\n",
       "      <td>1942</td>\n",
       "      <td>1932</td>\n",
       "      <td>elastic</td>\n",
       "      <td>156.894388</td>\n",
       "      <td>714.438865</td>\n",
       "      <td>standard</td>\n",
       "    </tr>\n",
       "    <tr>\n",
       "      <th>39</th>\n",
       "      <td>1931</td>\n",
       "      <td>1942</td>\n",
       "      <td>1933</td>\n",
       "      <td>ols</td>\n",
       "      <td>5.040304</td>\n",
       "      <td>1167.537677</td>\n",
       "      <td>standard</td>\n",
       "    </tr>\n",
       "  </tbody>\n",
       "</table>\n",
       "</div>"
      ],
      "text/plain": [
       "    cv_start  cv_end  validation_year    model  train_error  validation_error  \\\n",
       "0       1931    1941             1931      ols     2.097574        408.655534   \n",
       "1       1931    1941             1931    ridge    42.502346          3.360430   \n",
       "2       1931    1941             1931  elastic   151.073179        302.451349   \n",
       "3       1931    1941             1932      ols     2.097574        408.655534   \n",
       "4       1931    1941             1932    ridge    29.332626        445.256076   \n",
       "5       1931    1941             1932  elastic   120.570632       1098.821617   \n",
       "6       1931    1941             1933      ols     5.368010        661.342432   \n",
       "7       1931    1941             1933    ridge    40.631712          3.074484   \n",
       "8       1931    1941             1933  elastic   192.487312        237.894936   \n",
       "9       1931    1941             1934      ols     0.003229        939.443373   \n",
       "10      1931    1941             1934    ridge    37.901988         49.025760   \n",
       "11      1931    1941             1934  elastic   188.909882          0.359265   \n",
       "12      1931    1941             1935      ols     3.523377        130.737037   \n",
       "13      1931    1941             1935    ridge    40.867106         19.399120   \n",
       "14      1931    1941             1935  elastic   191.740806          5.651398   \n",
       "15      1931    1941             1936      ols     4.975552        223.832336   \n",
       "16      1931    1941             1936    ridge    41.413261          3.143357   \n",
       "17      1931    1941             1936  elastic   183.869667         38.260812   \n",
       "18      1931    1941             1937      ols     6.138055          3.707578   \n",
       "19      1931    1941             1937    ridge    41.212084          0.049142   \n",
       "20      1931    1941             1937  elastic   187.693161         40.702790   \n",
       "21      1931    1941             1938      ols     0.515393        112.880750   \n",
       "22      1931    1941             1938    ridge    24.301822        211.853067   \n",
       "23      1931    1941             1938  elastic   181.966869         36.402587   \n",
       "24      1931    1941             1939      ols     0.871350        361.122282   \n",
       "25      1931    1941             1939    ridge    41.896615          5.896568   \n",
       "26      1931    1941             1939  elastic   188.855059         68.118640   \n",
       "27      1931    1941             1940      ols     0.375690       2624.423333   \n",
       "28      1931    1941             1940    ridge    38.614315         41.504163   \n",
       "29      1931    1941             1940  elastic   186.393270        204.996164   \n",
       "30      1931    1941             1941      ols     1.492432       3037.728767   \n",
       "31      1931    1941             1941    ridge    18.648039       1212.469405   \n",
       "32      1931    1941             1941  elastic   108.158942       2547.322039   \n",
       "33      1931    1942             1931      ols     1.985419        324.586291   \n",
       "34      1931    1942             1931    ridge    50.827665         36.200133   \n",
       "35      1931    1942             1931  elastic   148.610573        563.235916   \n",
       "36      1931    1942             1932      ols     1.985419        324.586291   \n",
       "37      1931    1942             1932    ridge    46.769468        133.282761   \n",
       "38      1931    1942             1932  elastic   156.894388        714.438865   \n",
       "39      1931    1942             1933      ols     5.040304       1167.537677   \n",
       "\n",
       "   cv_strategy  \n",
       "0     standard  \n",
       "1     standard  \n",
       "2     standard  \n",
       "3     standard  \n",
       "4     standard  \n",
       "5     standard  \n",
       "6     standard  \n",
       "7     standard  \n",
       "8     standard  \n",
       "9     standard  \n",
       "10    standard  \n",
       "11    standard  \n",
       "12    standard  \n",
       "13    standard  \n",
       "14    standard  \n",
       "15    standard  \n",
       "16    standard  \n",
       "17    standard  \n",
       "18    standard  \n",
       "19    standard  \n",
       "20    standard  \n",
       "21    standard  \n",
       "22    standard  \n",
       "23    standard  \n",
       "24    standard  \n",
       "25    standard  \n",
       "26    standard  \n",
       "27    standard  \n",
       "28    standard  \n",
       "29    standard  \n",
       "30    standard  \n",
       "31    standard  \n",
       "32    standard  \n",
       "33    standard  \n",
       "34    standard  \n",
       "35    standard  \n",
       "36    standard  \n",
       "37    standard  \n",
       "38    standard  \n",
       "39    standard  "
      ]
     },
     "execution_count": 51,
     "metadata": {},
     "output_type": "execute_result"
    }
   ],
   "source": [
    "standard_cv_results_df.head(n=40)"
   ]
  },
  {
   "cell_type": "markdown",
   "metadata": {
    "deletable": true,
    "editable": true
   },
   "source": [
    "With these results from the cross validation, we can then simulate our process of choosing which model we will use for each of the testing years. To do so, for each fold group (characterized by having the same final cv year) and model type, we average the cv errors from all of the validation years. Then we select the model with the lowest average cv error for the prior years to be our chosen model for that test year. Finally, we compare the performace of the test year's predicted value for GDP with its actual value to get our test error for that year."
   ]
  },
  {
   "cell_type": "code",
   "execution_count": 47,
   "metadata": {
    "collapsed": false,
    "deletable": true,
    "editable": true
   },
   "outputs": [
    {
     "data": {
      "text/html": [
       "<div>\n",
       "<style scoped>\n",
       "    .dataframe tbody tr th:only-of-type {\n",
       "        vertical-align: middle;\n",
       "    }\n",
       "\n",
       "    .dataframe tbody tr th {\n",
       "        vertical-align: top;\n",
       "    }\n",
       "\n",
       "    .dataframe thead th {\n",
       "        text-align: right;\n",
       "    }\n",
       "</style>\n",
       "<table border=\"1\" class=\"dataframe\">\n",
       "  <thead>\n",
       "    <tr style=\"text-align: right;\">\n",
       "      <th></th>\n",
       "      <th>cv_end</th>\n",
       "      <th>model</th>\n",
       "      <th>mean_validation_error</th>\n",
       "    </tr>\n",
       "  </thead>\n",
       "  <tbody>\n",
       "    <tr>\n",
       "      <th>0</th>\n",
       "      <td>1941</td>\n",
       "      <td>elastic</td>\n",
       "      <td>416.452873</td>\n",
       "    </tr>\n",
       "    <tr>\n",
       "      <th>1</th>\n",
       "      <td>1941</td>\n",
       "      <td>ols</td>\n",
       "      <td>810.229905</td>\n",
       "    </tr>\n",
       "    <tr>\n",
       "      <th>2</th>\n",
       "      <td>1941</td>\n",
       "      <td>ridge</td>\n",
       "      <td>181.366507</td>\n",
       "    </tr>\n",
       "    <tr>\n",
       "      <th>3</th>\n",
       "      <td>1942</td>\n",
       "      <td>elastic</td>\n",
       "      <td>485.553967</td>\n",
       "    </tr>\n",
       "    <tr>\n",
       "      <th>4</th>\n",
       "      <td>1942</td>\n",
       "      <td>ols</td>\n",
       "      <td>332.453339</td>\n",
       "    </tr>\n",
       "    <tr>\n",
       "      <th>5</th>\n",
       "      <td>1942</td>\n",
       "      <td>ridge</td>\n",
       "      <td>155.729830</td>\n",
       "    </tr>\n",
       "    <tr>\n",
       "      <th>6</th>\n",
       "      <td>1943</td>\n",
       "      <td>elastic</td>\n",
       "      <td>301.197741</td>\n",
       "    </tr>\n",
       "    <tr>\n",
       "      <th>7</th>\n",
       "      <td>1943</td>\n",
       "      <td>ols</td>\n",
       "      <td>169.965608</td>\n",
       "    </tr>\n",
       "    <tr>\n",
       "      <th>8</th>\n",
       "      <td>1943</td>\n",
       "      <td>ridge</td>\n",
       "      <td>98.776924</td>\n",
       "    </tr>\n",
       "    <tr>\n",
       "      <th>9</th>\n",
       "      <td>1944</td>\n",
       "      <td>elastic</td>\n",
       "      <td>293.769001</td>\n",
       "    </tr>\n",
       "    <tr>\n",
       "      <th>10</th>\n",
       "      <td>1944</td>\n",
       "      <td>ols</td>\n",
       "      <td>121.710771</td>\n",
       "    </tr>\n",
       "    <tr>\n",
       "      <th>11</th>\n",
       "      <td>1944</td>\n",
       "      <td>ridge</td>\n",
       "      <td>91.886425</td>\n",
       "    </tr>\n",
       "    <tr>\n",
       "      <th>12</th>\n",
       "      <td>1945</td>\n",
       "      <td>elastic</td>\n",
       "      <td>348.026062</td>\n",
       "    </tr>\n",
       "    <tr>\n",
       "      <th>13</th>\n",
       "      <td>1945</td>\n",
       "      <td>ols</td>\n",
       "      <td>83.072707</td>\n",
       "    </tr>\n",
       "    <tr>\n",
       "      <th>14</th>\n",
       "      <td>1945</td>\n",
       "      <td>ridge</td>\n",
       "      <td>78.845364</td>\n",
       "    </tr>\n",
       "  </tbody>\n",
       "</table>\n",
       "</div>"
      ],
      "text/plain": [
       "    cv_end    model  mean_validation_error\n",
       "0     1941  elastic             416.452873\n",
       "1     1941      ols             810.229905\n",
       "2     1941    ridge             181.366507\n",
       "3     1942  elastic             485.553967\n",
       "4     1942      ols             332.453339\n",
       "5     1942    ridge             155.729830\n",
       "6     1943  elastic             301.197741\n",
       "7     1943      ols             169.965608\n",
       "8     1943    ridge              98.776924\n",
       "9     1944  elastic             293.769001\n",
       "10    1944      ols             121.710771\n",
       "11    1944    ridge              91.886425\n",
       "12    1945  elastic             348.026062\n",
       "13    1945      ols              83.072707\n",
       "14    1945    ridge              78.845364"
      ]
     },
     "execution_count": 47,
     "metadata": {},
     "output_type": "execute_result"
    }
   ],
   "source": [
    "# Grouping by the test year and the model type, what is the average cv_error?\n",
    "grouped_standard_cv_results = standard_cv_results_df.groupby(['cv_end', 'model'])['validation_error'].mean().to_frame().reset_index()\n",
    "grouped_standard_cv_results.rename(columns = {\"validation_error\": \"mean_validation_error\"}, inplace=True)\n",
    "\n",
    "grouped_standard_cv_results.head(n=15)"
   ]
  },
  {
   "cell_type": "code",
   "execution_count": 65,
   "metadata": {
    "collapsed": true,
    "deletable": true,
    "editable": true
   },
   "outputs": [],
   "source": [
    "# Finding the models with the lowest average cv_error for each year\n",
    "standard_cv_best_models = grouped_standard_cv_results.loc[grouped_standard_cv_results.groupby(['cv_end'])\\\n",
    "                                                         ['mean_validation_error'].idxmin()]"
   ]
  },
  {
   "cell_type": "code",
   "execution_count": 66,
   "metadata": {
    "collapsed": false
   },
   "outputs": [
    {
     "data": {
      "text/html": [
       "<div>\n",
       "<style scoped>\n",
       "    .dataframe tbody tr th:only-of-type {\n",
       "        vertical-align: middle;\n",
       "    }\n",
       "\n",
       "    .dataframe tbody tr th {\n",
       "        vertical-align: top;\n",
       "    }\n",
       "\n",
       "    .dataframe thead th {\n",
       "        text-align: right;\n",
       "    }\n",
       "</style>\n",
       "<table border=\"1\" class=\"dataframe\">\n",
       "  <thead>\n",
       "    <tr style=\"text-align: right;\">\n",
       "      <th></th>\n",
       "      <th>cv_end</th>\n",
       "      <th>model</th>\n",
       "      <th>mean_validation_error</th>\n",
       "    </tr>\n",
       "  </thead>\n",
       "  <tbody>\n",
       "    <tr>\n",
       "      <th>2</th>\n",
       "      <td>1941</td>\n",
       "      <td>ridge</td>\n",
       "      <td>181.366507</td>\n",
       "    </tr>\n",
       "    <tr>\n",
       "      <th>5</th>\n",
       "      <td>1942</td>\n",
       "      <td>ridge</td>\n",
       "      <td>155.729830</td>\n",
       "    </tr>\n",
       "    <tr>\n",
       "      <th>8</th>\n",
       "      <td>1943</td>\n",
       "      <td>ridge</td>\n",
       "      <td>98.776924</td>\n",
       "    </tr>\n",
       "    <tr>\n",
       "      <th>11</th>\n",
       "      <td>1944</td>\n",
       "      <td>ridge</td>\n",
       "      <td>91.886425</td>\n",
       "    </tr>\n",
       "    <tr>\n",
       "      <th>14</th>\n",
       "      <td>1945</td>\n",
       "      <td>ridge</td>\n",
       "      <td>78.845364</td>\n",
       "    </tr>\n",
       "    <tr>\n",
       "      <th>16</th>\n",
       "      <td>1946</td>\n",
       "      <td>ols</td>\n",
       "      <td>67.401535</td>\n",
       "    </tr>\n",
       "    <tr>\n",
       "      <th>19</th>\n",
       "      <td>1947</td>\n",
       "      <td>ols</td>\n",
       "      <td>95.767009</td>\n",
       "    </tr>\n",
       "    <tr>\n",
       "      <th>23</th>\n",
       "      <td>1948</td>\n",
       "      <td>ridge</td>\n",
       "      <td>138.371706</td>\n",
       "    </tr>\n",
       "    <tr>\n",
       "      <th>26</th>\n",
       "      <td>1949</td>\n",
       "      <td>ridge</td>\n",
       "      <td>183.607637</td>\n",
       "    </tr>\n",
       "  </tbody>\n",
       "</table>\n",
       "</div>"
      ],
      "text/plain": [
       "    cv_end  model  mean_validation_error\n",
       "2     1941  ridge             181.366507\n",
       "5     1942  ridge             155.729830\n",
       "8     1943  ridge              98.776924\n",
       "11    1944  ridge              91.886425\n",
       "14    1945  ridge              78.845364\n",
       "16    1946    ols              67.401535\n",
       "19    1947    ols              95.767009\n",
       "23    1948  ridge             138.371706\n",
       "26    1949  ridge             183.607637"
      ]
     },
     "execution_count": 66,
     "metadata": {},
     "output_type": "execute_result"
    }
   ],
   "source": [
    "standard_cv_best_models"
   ]
  },
  {
   "cell_type": "markdown",
   "metadata": {
    "deletable": true,
    "editable": true
   },
   "source": [
    "Now, to estimate the test error of each of our best models, we need to find the error of that model when it is trained on all the years prior to the test year and evaluated on the test year. Eg: the test error for OLS in 1943 is the error produced when OLS is trained on data from 1931 to 1942 and tested on 1943. \n",
    "\n",
    " Recall that this is exactly one of the K folds performed in the original running of the models stored in `standard_cv_results_df`. In particular, it is when `cv_end` = `validation_year` = 1943.  So instead of retraining the model, we can simply retrieve the error calculated before. Except the final test year (1950 in this case), which must be calculated."
   ]
  },
  {
   "cell_type": "code",
   "execution_count": 67,
   "metadata": {
    "collapsed": false,
    "deletable": true,
    "editable": true
   },
   "outputs": [],
   "source": [
    "test_errors = []\n",
    "for index, row in standard_cv_best_models.iterrows():\n",
    "    cv_end_yr = row[\"cv_end\"]\n",
    "    model = row[\"model\"]\n",
    "    \n",
    "    if test_yr != test_end_year:\n",
    "        test_error = standard_cv_results_df[(standard_cv_results_df.cv_end == cv_end_yr) \\\n",
    "                                          & (standard_cv_results_df.validation_year == cv_end_yr)\n",
    "                                          & (standard_cv_results_df.model == model)].iloc[0][\"validation_error\"]\n",
    "    else:\n",
    "        results = standard_etl_fit_evaluate(GDP_df, cv_end_yr + 1 , cv_end_yr, model)\n",
    "        test_error = results[4]\n",
    "        \n",
    "    test_errors.append(test_error)\n",
    "\n",
    "standard_cv_best_models[\"test_error\"] = test_errors\n",
    "standard_cv_best_models[\"type\"] = \"standard\"\n",
    "standard_cv_best_models.rename(columns={\"cv_end\":\"test_year\"}, inplace=True)\n",
    "standard_cv_best_models[\"test_year\"] = standard_cv_best_models[\"test_year\"] + 1 # To go from cv end to test year"
   ]
  },
  {
   "cell_type": "code",
   "execution_count": 68,
   "metadata": {
    "collapsed": false,
    "deletable": true,
    "editable": true
   },
   "outputs": [
    {
     "data": {
      "text/html": [
       "<div>\n",
       "<style scoped>\n",
       "    .dataframe tbody tr th:only-of-type {\n",
       "        vertical-align: middle;\n",
       "    }\n",
       "\n",
       "    .dataframe tbody tr th {\n",
       "        vertical-align: top;\n",
       "    }\n",
       "\n",
       "    .dataframe thead th {\n",
       "        text-align: right;\n",
       "    }\n",
       "</style>\n",
       "<table border=\"1\" class=\"dataframe\">\n",
       "  <thead>\n",
       "    <tr style=\"text-align: right;\">\n",
       "      <th></th>\n",
       "      <th>test_year</th>\n",
       "      <th>model</th>\n",
       "      <th>mean_validation_error</th>\n",
       "      <th>test_error</th>\n",
       "      <th>type</th>\n",
       "    </tr>\n",
       "  </thead>\n",
       "  <tbody>\n",
       "    <tr>\n",
       "      <th>2</th>\n",
       "      <td>1942</td>\n",
       "      <td>ridge</td>\n",
       "      <td>181.366507</td>\n",
       "      <td>18.648039</td>\n",
       "      <td>standard</td>\n",
       "    </tr>\n",
       "    <tr>\n",
       "      <th>5</th>\n",
       "      <td>1943</td>\n",
       "      <td>ridge</td>\n",
       "      <td>155.729830</td>\n",
       "      <td>37.498231</td>\n",
       "      <td>standard</td>\n",
       "    </tr>\n",
       "    <tr>\n",
       "      <th>8</th>\n",
       "      <td>1944</td>\n",
       "      <td>ridge</td>\n",
       "      <td>98.776924</td>\n",
       "      <td>44.470095</td>\n",
       "      <td>standard</td>\n",
       "    </tr>\n",
       "    <tr>\n",
       "      <th>11</th>\n",
       "      <td>1945</td>\n",
       "      <td>ridge</td>\n",
       "      <td>91.886425</td>\n",
       "      <td>41.307326</td>\n",
       "      <td>standard</td>\n",
       "    </tr>\n",
       "    <tr>\n",
       "      <th>14</th>\n",
       "      <td>1946</td>\n",
       "      <td>ridge</td>\n",
       "      <td>78.845364</td>\n",
       "      <td>38.204635</td>\n",
       "      <td>standard</td>\n",
       "    </tr>\n",
       "    <tr>\n",
       "      <th>16</th>\n",
       "      <td>1947</td>\n",
       "      <td>ols</td>\n",
       "      <td>67.401535</td>\n",
       "      <td>8.656447</td>\n",
       "      <td>standard</td>\n",
       "    </tr>\n",
       "    <tr>\n",
       "      <th>19</th>\n",
       "      <td>1948</td>\n",
       "      <td>ols</td>\n",
       "      <td>95.767009</td>\n",
       "      <td>8.310790</td>\n",
       "      <td>standard</td>\n",
       "    </tr>\n",
       "    <tr>\n",
       "      <th>23</th>\n",
       "      <td>1949</td>\n",
       "      <td>ridge</td>\n",
       "      <td>138.371706</td>\n",
       "      <td>66.751812</td>\n",
       "      <td>standard</td>\n",
       "    </tr>\n",
       "    <tr>\n",
       "      <th>26</th>\n",
       "      <td>1950</td>\n",
       "      <td>ridge</td>\n",
       "      <td>183.607637</td>\n",
       "      <td>63.432676</td>\n",
       "      <td>standard</td>\n",
       "    </tr>\n",
       "  </tbody>\n",
       "</table>\n",
       "</div>"
      ],
      "text/plain": [
       "    test_year  model  mean_validation_error  test_error      type\n",
       "2        1942  ridge             181.366507   18.648039  standard\n",
       "5        1943  ridge             155.729830   37.498231  standard\n",
       "8        1944  ridge              98.776924   44.470095  standard\n",
       "11       1945  ridge              91.886425   41.307326  standard\n",
       "14       1946  ridge              78.845364   38.204635  standard\n",
       "16       1947    ols              67.401535    8.656447  standard\n",
       "19       1948    ols              95.767009    8.310790  standard\n",
       "23       1949  ridge             138.371706   66.751812  standard\n",
       "26       1950  ridge             183.607637   63.432676  standard"
      ]
     },
     "execution_count": 68,
     "metadata": {},
     "output_type": "execute_result"
    }
   ],
   "source": [
    "standard_cv_best_models"
   ]
  },
  {
   "cell_type": "markdown",
   "metadata": {
    "deletable": true,
    "editable": true
   },
   "source": [
    "## Temporal Cross Validation"
   ]
  },
  {
   "cell_type": "markdown",
   "metadata": {
    "deletable": true,
    "editable": true
   },
   "source": [
    "Temporal CV approaches the problem slightly differently. It uses the same set of validation years, but only trains on the years before the validation year, not the years after. In this way, it eliminates data leakage that can cause overfitting in models trained with Standard CV.\n",
    "    \n",
    "Note that, with temporal CV, each test year starts with the same validation and training sets. Therefore we do not have to retrain all of the models for every test year, so temporal CV is also much more efficient for our project. We can simply train all 4 models on each possible training set (1931 - 1939, 1931 - 1940, 1931 - 1941, ...) and store the results. Then, for a given test year, for each model, we simply average all the validation errors from the years prior. Standard CV is far less efficient because validation requires unique train and validation sets. We cannot reuse results from another run."
   ]
  },
  {
   "cell_type": "code",
   "execution_count": 72,
   "metadata": {
    "collapsed": true,
    "deletable": true,
    "editable": true
   },
   "outputs": [],
   "source": [
    "def temporal_etl_fit_evaluate(df, year, model):\n",
    "    \n",
    "    # validation set\n",
    "    df_validation = df[df.year == year]\n",
    "    X_validation = df_validation[X_cols]\n",
    "    y_validation = df_validation[y_cols]\n",
    "    \n",
    "    # train set - all years prior to validation year\n",
    "    df_temporal_train = df[df.year < year]\n",
    "    X_temporal_train = df_temporal_train[X_cols]\n",
    "    y_temporal_train = np.ravel(df_temporal_train[y_cols])\n",
    "    \n",
    "    # fit the models for testing\n",
    "    clf = clfs[model]\n",
    "    clf.fit(X_temporal_train, y_temporal_train)\n",
    "    train_error = metrics.mean_squared_error(y_temporal_train, clf.predict(X_temporal_train))\n",
    "    test_error = metrics.mean_squared_error(y_validation, clf.predict(X_validation))\n",
    "    \n",
    "    return(year, model, train_error, test_error)"
   ]
  },
  {
   "cell_type": "code",
   "execution_count": 73,
   "metadata": {
    "collapsed": false,
    "deletable": true,
    "editable": true
   },
   "outputs": [],
   "source": [
    "pool = Pool()\n",
    "temporal_results = pool.starmap(temporal_etl_fit_evaluate, product([GDP_df], temporal_validation_years, clfs))\n",
    "pool.close()"
   ]
  },
  {
   "cell_type": "code",
   "execution_count": 75,
   "metadata": {
    "collapsed": false,
    "deletable": true,
    "editable": true
   },
   "outputs": [
    {
     "data": {
      "text/html": [
       "<div>\n",
       "<style scoped>\n",
       "    .dataframe tbody tr th:only-of-type {\n",
       "        vertical-align: middle;\n",
       "    }\n",
       "\n",
       "    .dataframe tbody tr th {\n",
       "        vertical-align: top;\n",
       "    }\n",
       "\n",
       "    .dataframe thead th {\n",
       "        text-align: right;\n",
       "    }\n",
       "</style>\n",
       "<table border=\"1\" class=\"dataframe\">\n",
       "  <thead>\n",
       "    <tr style=\"text-align: right;\">\n",
       "      <th></th>\n",
       "      <th>validation_year</th>\n",
       "      <th>model</th>\n",
       "      <th>train_error</th>\n",
       "      <th>validation_error</th>\n",
       "    </tr>\n",
       "  </thead>\n",
       "  <tbody>\n",
       "    <tr>\n",
       "      <th>0</th>\n",
       "      <td>1941</td>\n",
       "      <td>ols</td>\n",
       "      <td>1.492432</td>\n",
       "      <td>3037.728767</td>\n",
       "    </tr>\n",
       "    <tr>\n",
       "      <th>1</th>\n",
       "      <td>1941</td>\n",
       "      <td>ridge</td>\n",
       "      <td>18.648039</td>\n",
       "      <td>1212.469405</td>\n",
       "    </tr>\n",
       "    <tr>\n",
       "      <th>2</th>\n",
       "      <td>1941</td>\n",
       "      <td>elastic</td>\n",
       "      <td>108.158942</td>\n",
       "      <td>2547.322039</td>\n",
       "    </tr>\n",
       "    <tr>\n",
       "      <th>3</th>\n",
       "      <td>1942</td>\n",
       "      <td>ols</td>\n",
       "      <td>5.818796</td>\n",
       "      <td>650.773170</td>\n",
       "    </tr>\n",
       "    <tr>\n",
       "      <th>4</th>\n",
       "      <td>1942</td>\n",
       "      <td>ridge</td>\n",
       "      <td>37.498231</td>\n",
       "      <td>593.902513</td>\n",
       "    </tr>\n",
       "    <tr>\n",
       "      <th>5</th>\n",
       "      <td>1942</td>\n",
       "      <td>elastic</td>\n",
       "      <td>177.566218</td>\n",
       "      <td>2493.282681</td>\n",
       "    </tr>\n",
       "    <tr>\n",
       "      <th>6</th>\n",
       "      <td>1943</td>\n",
       "      <td>ols</td>\n",
       "      <td>8.756661</td>\n",
       "      <td>48.144871</td>\n",
       "    </tr>\n",
       "    <tr>\n",
       "      <th>7</th>\n",
       "      <td>1943</td>\n",
       "      <td>ridge</td>\n",
       "      <td>44.470095</td>\n",
       "      <td>29.167279</td>\n",
       "    </tr>\n",
       "    <tr>\n",
       "      <th>8</th>\n",
       "      <td>1943</td>\n",
       "      <td>elastic</td>\n",
       "      <td>190.335469</td>\n",
       "      <td>492.357335</td>\n",
       "    </tr>\n",
       "    <tr>\n",
       "      <th>9</th>\n",
       "      <td>1944</td>\n",
       "      <td>ols</td>\n",
       "      <td>8.622025</td>\n",
       "      <td>113.319559</td>\n",
       "    </tr>\n",
       "    <tr>\n",
       "      <th>10</th>\n",
       "      <td>1944</td>\n",
       "      <td>ridge</td>\n",
       "      <td>41.307326</td>\n",
       "      <td>85.521292</td>\n",
       "    </tr>\n",
       "    <tr>\n",
       "      <th>11</th>\n",
       "      <td>1944</td>\n",
       "      <td>elastic</td>\n",
       "      <td>164.011922</td>\n",
       "      <td>201.790763</td>\n",
       "    </tr>\n",
       "  </tbody>\n",
       "</table>\n",
       "</div>"
      ],
      "text/plain": [
       "    validation_year    model  train_error  validation_error\n",
       "0              1941      ols     1.492432       3037.728767\n",
       "1              1941    ridge    18.648039       1212.469405\n",
       "2              1941  elastic   108.158942       2547.322039\n",
       "3              1942      ols     5.818796        650.773170\n",
       "4              1942    ridge    37.498231        593.902513\n",
       "5              1942  elastic   177.566218       2493.282681\n",
       "6              1943      ols     8.756661         48.144871\n",
       "7              1943    ridge    44.470095         29.167279\n",
       "8              1943  elastic   190.335469        492.357335\n",
       "9              1944      ols     8.622025        113.319559\n",
       "10             1944    ridge    41.307326         85.521292\n",
       "11             1944  elastic   164.011922        201.790763"
      ]
     },
     "execution_count": 75,
     "metadata": {},
     "output_type": "execute_result"
    }
   ],
   "source": [
    "temporal_results_df = pd.DataFrame([x for x in temporal_results if x is not None],\n",
    "                                  columns=['validation_year', 'model', 'train_error', 'validation_error'])\n",
    "temporal_results_df.head(n=12)"
   ]
  },
  {
   "cell_type": "markdown",
   "metadata": {
    "deletable": true,
    "editable": true
   },
   "source": [
    "As described above, for each test year we now can average the test errors from the years before to get our test average cv error. This should match the form of `grouped_standard_cv_results` above."
   ]
  },
  {
   "cell_type": "code",
   "execution_count": 96,
   "metadata": {
    "collapsed": false,
    "deletable": true,
    "editable": true
   },
   "outputs": [
    {
     "data": {
      "text/html": [
       "<div>\n",
       "<style scoped>\n",
       "    .dataframe tbody tr th:only-of-type {\n",
       "        vertical-align: middle;\n",
       "    }\n",
       "\n",
       "    .dataframe tbody tr th {\n",
       "        vertical-align: top;\n",
       "    }\n",
       "\n",
       "    .dataframe thead th {\n",
       "        text-align: right;\n",
       "    }\n",
       "</style>\n",
       "<table border=\"1\" class=\"dataframe\">\n",
       "  <thead>\n",
       "    <tr style=\"text-align: right;\">\n",
       "      <th></th>\n",
       "      <th>mean_validation_error</th>\n",
       "      <th>model</th>\n",
       "      <th>test_year</th>\n",
       "    </tr>\n",
       "  </thead>\n",
       "  <tbody>\n",
       "    <tr>\n",
       "      <th>0</th>\n",
       "      <td>6691.633050</td>\n",
       "      <td>ols</td>\n",
       "      <td>1941</td>\n",
       "    </tr>\n",
       "    <tr>\n",
       "      <th>1</th>\n",
       "      <td>49.885525</td>\n",
       "      <td>ridge</td>\n",
       "      <td>1941</td>\n",
       "    </tr>\n",
       "    <tr>\n",
       "      <th>2</th>\n",
       "      <td>316.569643</td>\n",
       "      <td>elastic</td>\n",
       "      <td>1941</td>\n",
       "    </tr>\n",
       "    <tr>\n",
       "      <th>3</th>\n",
       "      <td>202.300135</td>\n",
       "      <td>random_forest</td>\n",
       "      <td>1941</td>\n",
       "    </tr>\n",
       "    <tr>\n",
       "      <th>4</th>\n",
       "      <td>3357.030211</td>\n",
       "      <td>ols</td>\n",
       "      <td>1942</td>\n",
       "    </tr>\n",
       "    <tr>\n",
       "      <th>5</th>\n",
       "      <td>577.731015</td>\n",
       "      <td>ridge</td>\n",
       "      <td>1942</td>\n",
       "    </tr>\n",
       "    <tr>\n",
       "      <th>6</th>\n",
       "      <td>1431.945841</td>\n",
       "      <td>elastic</td>\n",
       "      <td>1942</td>\n",
       "    </tr>\n",
       "    <tr>\n",
       "      <th>7</th>\n",
       "      <td>677.836694</td>\n",
       "      <td>random_forest</td>\n",
       "      <td>1942</td>\n",
       "    </tr>\n",
       "    <tr>\n",
       "      <th>8</th>\n",
       "      <td>2401.294113</td>\n",
       "      <td>ols</td>\n",
       "      <td>1943</td>\n",
       "    </tr>\n",
       "    <tr>\n",
       "      <th>9</th>\n",
       "      <td>613.347321</td>\n",
       "      <td>ridge</td>\n",
       "      <td>1943</td>\n",
       "    </tr>\n",
       "    <tr>\n",
       "      <th>10</th>\n",
       "      <td>1785.724788</td>\n",
       "      <td>elastic</td>\n",
       "      <td>1943</td>\n",
       "    </tr>\n",
       "    <tr>\n",
       "      <th>11</th>\n",
       "      <td>1349.085906</td>\n",
       "      <td>random_forest</td>\n",
       "      <td>1943</td>\n",
       "    </tr>\n",
       "  </tbody>\n",
       "</table>\n",
       "</div>"
      ],
      "text/plain": [
       "    mean_validation_error          model  test_year\n",
       "0             6691.633050            ols       1941\n",
       "1               49.885525          ridge       1941\n",
       "2              316.569643        elastic       1941\n",
       "3              202.300135  random_forest       1941\n",
       "4             3357.030211            ols       1942\n",
       "5              577.731015          ridge       1942\n",
       "6             1431.945841        elastic       1942\n",
       "7              677.836694  random_forest       1942\n",
       "8             2401.294113            ols       1943\n",
       "9              613.347321          ridge       1943\n",
       "10            1785.724788        elastic       1943\n",
       "11            1349.085906  random_forest       1943"
      ]
     },
     "execution_count": 96,
     "metadata": {},
     "output_type": "execute_result"
    }
   ],
   "source": [
    "rows_list = []\n",
    "for test_yr in test_years:\n",
    "    for model in clfs:\n",
    "        row_dict = {}\n",
    "        row_dict[\"model\"] = model\n",
    "        row_dict[\"test_year\"] = test_yr\n",
    "        row_dict[\"mean_validation_error\"] = temporal_results_df[(temporal_results_df.validation_year < test_yr) \\\n",
    "                & (temporal_results_df.model == model)][\"validation_error\"].mean()\n",
    "        rows_list.append(row_dict)\n",
    "        \n",
    "grouped_temporal_cv_results = pd.DataFrame(rows_list)\n",
    "grouped_temporal_cv_results.head(n=12)"
   ]
  },
  {
   "cell_type": "markdown",
   "metadata": {
    "deletable": true,
    "editable": true,
    "scrolled": true
   },
   "source": [
    "Just like the standard CV example, we can chose the best model for each test year from these mean validation errors and then retrieve the test errors from our run of all the validation sets. However, this time we did not need to specify a test year to get our validation errors. However, like Standard CV, our final test year (1950) was never used as a validation set."
   ]
  },
  {
   "cell_type": "code",
   "execution_count": 148,
   "metadata": {
    "collapsed": true,
    "deletable": true,
    "editable": true
   },
   "outputs": [],
   "source": [
    "# Finding the models with the lowest average cv_error for each year\n",
    "temporal_cv_best_models = grouped_temporal_cv_results.loc[grouped_temporal_cv_results.groupby(['test_year'])\\\n",
    "                                                         ['mean_validation_error'].idxmin()]\n",
    "\n",
    "test_errors = []\n",
    "for index, row in temporal_cv_best_models.iterrows():\n",
    "    test_yr = row[\"test_year\"]\n",
    "    model = row[\"model\"]\n",
    "    \n",
    "    if test_yr != test_end_year:\n",
    "        test_error = temporal_results_df[(temporal_results_df.validation_year == test_yr)\n",
    "                                       & (temporal_results_df.model == model)].iloc[0][\"validation_error\"]\n",
    "    else:\n",
    "        results = temporal_etl_fit_evaluate(test_yr, model)\n",
    "        test_error = results[3]\n",
    "        \n",
    "    test_errors.append(test_error)\n",
    "\n",
    "temporal_cv_best_models[\"test_error\"] = test_errors\n",
    "\n",
    "#Reordering columns and adding type\n",
    "temporal_cv_best_models = temporal_cv_best_models[[\"test_year\", \"model\", \"mean_validation_error\", \"test_error\"]]\n",
    "temporal_cv_best_models[\"type\"] = \"temporal\""
   ]
  },
  {
   "cell_type": "code",
   "execution_count": 149,
   "metadata": {
    "collapsed": false,
    "deletable": true,
    "editable": true
   },
   "outputs": [
    {
     "data": {
      "text/html": [
       "<div>\n",
       "<style scoped>\n",
       "    .dataframe tbody tr th:only-of-type {\n",
       "        vertical-align: middle;\n",
       "    }\n",
       "\n",
       "    .dataframe tbody tr th {\n",
       "        vertical-align: top;\n",
       "    }\n",
       "\n",
       "    .dataframe thead th {\n",
       "        text-align: right;\n",
       "    }\n",
       "</style>\n",
       "<table border=\"1\" class=\"dataframe\">\n",
       "  <thead>\n",
       "    <tr style=\"text-align: right;\">\n",
       "      <th></th>\n",
       "      <th>test_year</th>\n",
       "      <th>model</th>\n",
       "      <th>mean_validation_error</th>\n",
       "      <th>test_error</th>\n",
       "      <th>type</th>\n",
       "    </tr>\n",
       "  </thead>\n",
       "  <tbody>\n",
       "    <tr>\n",
       "      <th>1</th>\n",
       "      <td>1941</td>\n",
       "      <td>ridge</td>\n",
       "      <td>49.885525</td>\n",
       "      <td>1105.576505</td>\n",
       "      <td>temporal</td>\n",
       "    </tr>\n",
       "    <tr>\n",
       "      <th>5</th>\n",
       "      <td>1942</td>\n",
       "      <td>ridge</td>\n",
       "      <td>577.731015</td>\n",
       "      <td>684.579933</td>\n",
       "      <td>temporal</td>\n",
       "    </tr>\n",
       "    <tr>\n",
       "      <th>9</th>\n",
       "      <td>1943</td>\n",
       "      <td>ridge</td>\n",
       "      <td>613.347321</td>\n",
       "      <td>45.260562</td>\n",
       "      <td>temporal</td>\n",
       "    </tr>\n",
       "    <tr>\n",
       "      <th>13</th>\n",
       "      <td>1944</td>\n",
       "      <td>ridge</td>\n",
       "      <td>471.325631</td>\n",
       "      <td>75.992947</td>\n",
       "      <td>temporal</td>\n",
       "    </tr>\n",
       "    <tr>\n",
       "      <th>17</th>\n",
       "      <td>1945</td>\n",
       "      <td>ridge</td>\n",
       "      <td>392.259094</td>\n",
       "      <td>19.333007</td>\n",
       "      <td>temporal</td>\n",
       "    </tr>\n",
       "    <tr>\n",
       "      <th>21</th>\n",
       "      <td>1946</td>\n",
       "      <td>ridge</td>\n",
       "      <td>330.104747</td>\n",
       "      <td>79.749472</td>\n",
       "      <td>temporal</td>\n",
       "    </tr>\n",
       "    <tr>\n",
       "      <th>25</th>\n",
       "      <td>1947</td>\n",
       "      <td>ridge</td>\n",
       "      <td>294.339707</td>\n",
       "      <td>953.363358</td>\n",
       "      <td>temporal</td>\n",
       "    </tr>\n",
       "    <tr>\n",
       "      <th>29</th>\n",
       "      <td>1948</td>\n",
       "      <td>ridge</td>\n",
       "      <td>376.717664</td>\n",
       "      <td>36.581127</td>\n",
       "      <td>temporal</td>\n",
       "    </tr>\n",
       "    <tr>\n",
       "      <th>33</th>\n",
       "      <td>1949</td>\n",
       "      <td>ridge</td>\n",
       "      <td>338.924715</td>\n",
       "      <td>625.947082</td>\n",
       "      <td>temporal</td>\n",
       "    </tr>\n",
       "    <tr>\n",
       "      <th>37</th>\n",
       "      <td>1950</td>\n",
       "      <td>ridge</td>\n",
       "      <td>367.626952</td>\n",
       "      <td>306.229906</td>\n",
       "      <td>temporal</td>\n",
       "    </tr>\n",
       "  </tbody>\n",
       "</table>\n",
       "</div>"
      ],
      "text/plain": [
       "    test_year  model  mean_validation_error   test_error      type\n",
       "1        1941  ridge              49.885525  1105.576505  temporal\n",
       "5        1942  ridge             577.731015   684.579933  temporal\n",
       "9        1943  ridge             613.347321    45.260562  temporal\n",
       "13       1944  ridge             471.325631    75.992947  temporal\n",
       "17       1945  ridge             392.259094    19.333007  temporal\n",
       "21       1946  ridge             330.104747    79.749472  temporal\n",
       "25       1947  ridge             294.339707   953.363358  temporal\n",
       "29       1948  ridge             376.717664    36.581127  temporal\n",
       "33       1949  ridge             338.924715   625.947082  temporal\n",
       "37       1950  ridge             367.626952   306.229906  temporal"
      ]
     },
     "execution_count": 149,
     "metadata": {},
     "output_type": "execute_result"
    }
   ],
   "source": [
    "temporal_cv_best_models"
   ]
  },
  {
   "cell_type": "markdown",
   "metadata": {
    "collapsed": true,
    "deletable": true,
    "editable": true
   },
   "source": [
    "Compare the models selected and the testing errors generated by our temporal and our standard CV techniques."
   ]
  },
  {
   "cell_type": "code",
   "execution_count": 156,
   "metadata": {
    "collapsed": false,
    "deletable": true,
    "editable": true
   },
   "outputs": [
    {
     "data": {
      "text/html": [
       "<div>\n",
       "<style scoped>\n",
       "    .dataframe tbody tr th:only-of-type {\n",
       "        vertical-align: middle;\n",
       "    }\n",
       "\n",
       "    .dataframe tbody tr th {\n",
       "        vertical-align: top;\n",
       "    }\n",
       "\n",
       "    .dataframe thead th {\n",
       "        text-align: right;\n",
       "    }\n",
       "</style>\n",
       "<table border=\"1\" class=\"dataframe\">\n",
       "  <thead>\n",
       "    <tr style=\"text-align: right;\">\n",
       "      <th></th>\n",
       "      <th>test_year</th>\n",
       "      <th>model</th>\n",
       "      <th>mean_validation_error</th>\n",
       "      <th>test_error</th>\n",
       "      <th>type</th>\n",
       "    </tr>\n",
       "  </thead>\n",
       "  <tbody>\n",
       "    <tr>\n",
       "      <th>3</th>\n",
       "      <td>1941</td>\n",
       "      <td>ridge</td>\n",
       "      <td>56.252822</td>\n",
       "      <td>1105.576505</td>\n",
       "      <td>standard</td>\n",
       "    </tr>\n",
       "    <tr>\n",
       "      <th>1</th>\n",
       "      <td>1941</td>\n",
       "      <td>ridge</td>\n",
       "      <td>49.885525</td>\n",
       "      <td>1105.576505</td>\n",
       "      <td>temporal</td>\n",
       "    </tr>\n",
       "    <tr>\n",
       "      <th>5</th>\n",
       "      <td>1942</td>\n",
       "      <td>ols</td>\n",
       "      <td>63.670732</td>\n",
       "      <td>489.821916</td>\n",
       "      <td>standard</td>\n",
       "    </tr>\n",
       "    <tr>\n",
       "      <th>5</th>\n",
       "      <td>1942</td>\n",
       "      <td>ridge</td>\n",
       "      <td>577.731015</td>\n",
       "      <td>684.579933</td>\n",
       "      <td>temporal</td>\n",
       "    </tr>\n",
       "    <tr>\n",
       "      <th>9</th>\n",
       "      <td>1943</td>\n",
       "      <td>ols</td>\n",
       "      <td>92.860705</td>\n",
       "      <td>57.959160</td>\n",
       "      <td>standard</td>\n",
       "    </tr>\n",
       "    <tr>\n",
       "      <th>9</th>\n",
       "      <td>1943</td>\n",
       "      <td>ridge</td>\n",
       "      <td>613.347321</td>\n",
       "      <td>45.260562</td>\n",
       "      <td>temporal</td>\n",
       "    </tr>\n",
       "    <tr>\n",
       "      <th>13</th>\n",
       "      <td>1944</td>\n",
       "      <td>ols</td>\n",
       "      <td>53.370711</td>\n",
       "      <td>293.277219</td>\n",
       "      <td>standard</td>\n",
       "    </tr>\n",
       "    <tr>\n",
       "      <th>13</th>\n",
       "      <td>1944</td>\n",
       "      <td>ridge</td>\n",
       "      <td>471.325631</td>\n",
       "      <td>75.992947</td>\n",
       "      <td>temporal</td>\n",
       "    </tr>\n",
       "    <tr>\n",
       "      <th>17</th>\n",
       "      <td>1945</td>\n",
       "      <td>ols</td>\n",
       "      <td>68.592761</td>\n",
       "      <td>0.000271</td>\n",
       "      <td>standard</td>\n",
       "    </tr>\n",
       "    <tr>\n",
       "      <th>17</th>\n",
       "      <td>1945</td>\n",
       "      <td>ridge</td>\n",
       "      <td>392.259094</td>\n",
       "      <td>19.333007</td>\n",
       "      <td>temporal</td>\n",
       "    </tr>\n",
       "    <tr>\n",
       "      <th>21</th>\n",
       "      <td>1946</td>\n",
       "      <td>ols</td>\n",
       "      <td>34.826981</td>\n",
       "      <td>56.624231</td>\n",
       "      <td>standard</td>\n",
       "    </tr>\n",
       "    <tr>\n",
       "      <th>21</th>\n",
       "      <td>1946</td>\n",
       "      <td>ridge</td>\n",
       "      <td>330.104747</td>\n",
       "      <td>79.749472</td>\n",
       "      <td>temporal</td>\n",
       "    </tr>\n",
       "    <tr>\n",
       "      <th>25</th>\n",
       "      <td>1947</td>\n",
       "      <td>ols</td>\n",
       "      <td>32.971837</td>\n",
       "      <td>663.147865</td>\n",
       "      <td>standard</td>\n",
       "    </tr>\n",
       "    <tr>\n",
       "      <th>25</th>\n",
       "      <td>1947</td>\n",
       "      <td>ridge</td>\n",
       "      <td>294.339707</td>\n",
       "      <td>953.363358</td>\n",
       "      <td>temporal</td>\n",
       "    </tr>\n",
       "    <tr>\n",
       "      <th>29</th>\n",
       "      <td>1948</td>\n",
       "      <td>ridge</td>\n",
       "      <td>376.717664</td>\n",
       "      <td>36.581127</td>\n",
       "      <td>temporal</td>\n",
       "    </tr>\n",
       "    <tr>\n",
       "      <th>29</th>\n",
       "      <td>1948</td>\n",
       "      <td>ols</td>\n",
       "      <td>87.415395</td>\n",
       "      <td>1941.569809</td>\n",
       "      <td>standard</td>\n",
       "    </tr>\n",
       "    <tr>\n",
       "      <th>33</th>\n",
       "      <td>1949</td>\n",
       "      <td>ridge</td>\n",
       "      <td>338.924715</td>\n",
       "      <td>625.947082</td>\n",
       "      <td>temporal</td>\n",
       "    </tr>\n",
       "    <tr>\n",
       "      <th>35</th>\n",
       "      <td>1949</td>\n",
       "      <td>ridge</td>\n",
       "      <td>141.028935</td>\n",
       "      <td>625.947082</td>\n",
       "      <td>standard</td>\n",
       "    </tr>\n",
       "    <tr>\n",
       "      <th>39</th>\n",
       "      <td>1950</td>\n",
       "      <td>ridge</td>\n",
       "      <td>188.891474</td>\n",
       "      <td>306.229906</td>\n",
       "      <td>standard</td>\n",
       "    </tr>\n",
       "    <tr>\n",
       "      <th>37</th>\n",
       "      <td>1950</td>\n",
       "      <td>ridge</td>\n",
       "      <td>367.626952</td>\n",
       "      <td>306.229906</td>\n",
       "      <td>temporal</td>\n",
       "    </tr>\n",
       "  </tbody>\n",
       "</table>\n",
       "</div>"
      ],
      "text/plain": [
       "    test_year  model  mean_validation_error   test_error      type\n",
       "3        1941  ridge              56.252822  1105.576505  standard\n",
       "1        1941  ridge              49.885525  1105.576505  temporal\n",
       "5        1942    ols              63.670732   489.821916  standard\n",
       "5        1942  ridge             577.731015   684.579933  temporal\n",
       "9        1943    ols              92.860705    57.959160  standard\n",
       "9        1943  ridge             613.347321    45.260562  temporal\n",
       "13       1944    ols              53.370711   293.277219  standard\n",
       "13       1944  ridge             471.325631    75.992947  temporal\n",
       "17       1945    ols              68.592761     0.000271  standard\n",
       "17       1945  ridge             392.259094    19.333007  temporal\n",
       "21       1946    ols              34.826981    56.624231  standard\n",
       "21       1946  ridge             330.104747    79.749472  temporal\n",
       "25       1947    ols              32.971837   663.147865  standard\n",
       "25       1947  ridge             294.339707   953.363358  temporal\n",
       "29       1948  ridge             376.717664    36.581127  temporal\n",
       "29       1948    ols              87.415395  1941.569809  standard\n",
       "33       1949  ridge             338.924715   625.947082  temporal\n",
       "35       1949  ridge             141.028935   625.947082  standard\n",
       "39       1950  ridge             188.891474   306.229906  standard\n",
       "37       1950  ridge             367.626952   306.229906  temporal"
      ]
     },
     "execution_count": 156,
     "metadata": {},
     "output_type": "execute_result"
    }
   ],
   "source": [
    "pd.concat([standard_cv_best_models, temporal_cv_best_models]).sort_values(by=\"test_year\")"
   ]
  },
  {
   "cell_type": "code",
   "execution_count": 147,
   "metadata": {
    "collapsed": true,
    "deletable": true,
    "editable": true
   },
   "outputs": [],
   "source": []
  },
  {
   "cell_type": "markdown",
   "metadata": {
    "deletable": true,
    "editable": true
   },
   "source": [
    "## End of Jack's Work"
   ]
  },
  {
   "cell_type": "code",
   "execution_count": null,
   "metadata": {
    "collapsed": true,
    "deletable": true,
    "editable": true
   },
   "outputs": [],
   "source": []
  },
  {
   "cell_type": "code",
   "execution_count": null,
   "metadata": {
    "collapsed": true,
    "deletable": true,
    "editable": true
   },
   "outputs": [],
   "source": []
  },
  {
   "cell_type": "code",
   "execution_count": null,
   "metadata": {
    "collapsed": true,
    "deletable": true,
    "editable": true
   },
   "outputs": [],
   "source": []
  },
  {
   "cell_type": "code",
   "execution_count": null,
   "metadata": {
    "collapsed": true,
    "deletable": true,
    "editable": true
   },
   "outputs": [],
   "source": []
  },
  {
   "cell_type": "code",
   "execution_count": null,
   "metadata": {
    "collapsed": true,
    "deletable": true,
    "editable": true
   },
   "outputs": [],
   "source": []
  },
  {
   "cell_type": "code",
   "execution_count": 362,
   "metadata": {
    "collapsed": false,
    "deletable": true,
    "editable": true
   },
   "outputs": [
    {
     "data": {
      "text/plain": [
       "model          cv_strategy  variable   \n",
       "linear         temporal     train_error       299.0\n",
       "ridge          temporal     train_error       310.0\n",
       "elastic        temporal     train_error       431.0\n",
       "random forest  temporal     train_error       870.0\n",
       "linear         standard     train_error      1694.0\n",
       "ridge          standard     train_error      1702.0\n",
       "elastic        standard     train_error      2049.0\n",
       "                            cv_error         3191.0\n",
       "ridge          standard     cv_error         3424.0\n",
       "linear         standard     cv_error         3505.0\n",
       "ridge          temporal     cv_error         3518.0\n",
       "elastic        temporal     cv_error         3842.0\n",
       "linear         temporal     cv_error         3943.0\n",
       "random forest  standard     train_error      4941.0\n",
       "elastic        standard     test_error      22138.0\n",
       "               temporal     test_error      22138.0\n",
       "random forest  standard     cv_error        22967.0\n",
       "ridge          temporal     test_error      23696.0\n",
       "               standard     test_error      23696.0\n",
       "linear         temporal     test_error      23836.0\n",
       "               standard     test_error      23836.0\n",
       "random forest  temporal     cv_error       101959.0\n",
       "               standard     test_error     516071.0\n",
       "               temporal     test_error     516071.0\n",
       "Name: value, dtype: float64"
      ]
     },
     "execution_count": 362,
     "metadata": {},
     "output_type": "execute_result"
    }
   ],
   "source": [
    "results_long.value.groupby([results_long.model, results_long.cv_strategy, results_long.variable]).mean().round(0).sort_values()"
   ]
  },
  {
   "cell_type": "code",
   "execution_count": null,
   "metadata": {
    "collapsed": true,
    "deletable": true,
    "editable": true
   },
   "outputs": [],
   "source": []
  },
  {
   "cell_type": "code",
   "execution_count": 347,
   "metadata": {
    "collapsed": false,
    "deletable": true,
    "editable": true
   },
   "outputs": [
    {
     "data": {
      "image/png": "[encoded data removed]",
      "text/plain": [
       "<matplotlib.figure.Figure at 0x114163908>"
      ]
     },
     "metadata": {},
     "output_type": "display_data"
    },
    {
     "data": {
      "text/plain": [
       "<ggplot: (291922145)>"
      ]
     },
     "execution_count": 347,
     "metadata": {},
     "output_type": "execute_result"
    }
   ],
   "source": [
    "(ggplot(temporal_results_long, aes(x='year', color='variable')) + \n",
    "    geom_line(aes(y='value', group='variable')) +\n",
    "    xlab('year') +\n",
    "    ylab('mean squared error') +\n",
    "    facet_wrap('~model')\n",
    ")"
   ]
  },
  {
   "cell_type": "code",
   "execution_count": null,
   "metadata": {
    "collapsed": true,
    "deletable": true,
    "editable": true
   },
   "outputs": [],
   "source": []
  },
  {
   "cell_type": "markdown",
   "metadata": {
    "deletable": true,
    "editable": true
   },
   "source": [
    "The OLS, ridge, and elasticnet regressions all give similar results, but we'd choose ridge regression given that it performed best (as measured by mean squared error, the metric we chose) out of sample."
   ]
  },
  {
   "cell_type": "markdown",
   "metadata": {
    "deletable": true,
    "editable": true
   },
   "source": [
    "### Temporal cross validation\n",
    "In temporal cross validation, the training set contains rows that temporally precede the test set. In this setup,\n",
    "\n",
    "* Train on rows through year t and test on t+1\n",
    "* Train on rows through year t+1 and test on t+2\n",
    "* ...\n",
    "* Train on rows through year t+n-1 and test on t+n, where n is the number of rows in the training set\n",
    "\n",
    "As mentioned, I set up the standard CV problem so each has the same exact validation sets. What differs is their training sets. Temporal CV only uses the rows that temporally precede the validation set, while standard CV will use all the rows not in the validation set. For example, if the validation set is 1990,\n",
    "\n",
    "* Temporal CV will train on 1988 and 1989 only\n",
    "* Standard CV will train on 1988, 1989, and 1991 through 2009\n",
    "\n",
    "Note that the validation errors on each fold will converge toward the later years of the training set, as the training and validation data become more similar. Our leave-one-out CV strategy and temporal CV will give exactly the same results for the 2009 validation fold because the training (1988-2008) and validation (2009) data are the same. \n",
    "\n",
    "You'll almost always want to choose a validation and testing strategy that most closely mimics how your model will be used. If you don't, you'll choose a model that performs well for a different problem than the one you're trying to solve. In this example, where you want to predict GDP for 2018, you should choose temporal cross validation because you don't have data from after 2017. Training the model on future data and testing on the past is cheating because the future contains information about the past. As a result, standard cross validation will tend to give errors that are too small.  \n",
    "\n",
    "We do not use the first row of data for validation because we don't have data that temporally precede it for training."
   ]
  },
  {
   "cell_type": "code",
   "execution_count": null,
   "metadata": {
    "collapsed": true,
    "deletable": true,
    "editable": true
   },
   "outputs": [],
   "source": []
  },
  {
   "cell_type": "code",
   "execution_count": 129,
   "metadata": {
    "collapsed": true,
    "deletable": true,
    "editable": true
   },
   "outputs": [],
   "source": []
  },
  {
   "cell_type": "code",
   "execution_count": null,
   "metadata": {
    "collapsed": true,
    "deletable": true,
    "editable": true
   },
   "outputs": [],
   "source": []
  },
  {
   "cell_type": "code",
   "execution_count": null,
   "metadata": {
    "collapsed": true,
    "deletable": true,
    "editable": true
   },
   "outputs": [],
   "source": []
  },
  {
   "cell_type": "code",
   "execution_count": null,
   "metadata": {
    "collapsed": true,
    "deletable": true,
    "editable": true
   },
   "outputs": [],
   "source": []
  },
  {
   "cell_type": "code",
   "execution_count": null,
   "metadata": {
    "collapsed": true,
    "deletable": true,
    "editable": true
   },
   "outputs": [],
   "source": []
  },
  {
   "cell_type": "code",
   "execution_count": null,
   "metadata": {
    "collapsed": true,
    "deletable": true,
    "editable": true
   },
   "outputs": [],
   "source": []
  },
  {
   "cell_type": "code",
   "execution_count": null,
   "metadata": {
    "collapsed": true,
    "deletable": true,
    "editable": true
   },
   "outputs": [],
   "source": []
  },
  {
   "cell_type": "code",
   "execution_count": null,
   "metadata": {
    "collapsed": true,
    "deletable": true,
    "editable": true
   },
   "outputs": [],
   "source": []
  },
  {
   "cell_type": "code",
   "execution_count": 272,
   "metadata": {
    "collapsed": true,
    "deletable": true,
    "editable": true
   },
   "outputs": [],
   "source": []
  },
  {
   "cell_type": "code",
   "execution_count": null,
   "metadata": {
    "collapsed": true,
    "deletable": true,
    "editable": true
   },
   "outputs": [],
   "source": []
  },
  {
   "cell_type": "code",
   "execution_count": null,
   "metadata": {
    "collapsed": true,
    "deletable": true,
    "editable": true,
    "scrolled": true
   },
   "outputs": [],
   "source": []
  },
  {
   "cell_type": "code",
   "execution_count": null,
   "metadata": {
    "collapsed": true,
    "deletable": true,
    "editable": true
   },
   "outputs": [],
   "source": []
  },
  {
   "cell_type": "markdown",
   "metadata": {
    "deletable": true,
    "editable": true
   },
   "source": [
    "Unsurprisingly, we get the smallest errors on the training set and the largest errors on the test set.\n",
    "\n",
    "How much of CV underestimation is due to lower variance?\n",
    "\n",
    "Heavier penalties are more important for small samples"
   ]
  },
  {
   "cell_type": "code",
   "execution_count": null,
   "metadata": {
    "collapsed": true,
    "deletable": true,
    "editable": true
   },
   "outputs": [],
   "source": []
  },
  {
   "cell_type": "markdown",
   "metadata": {
    "deletable": true,
    "editable": true
   },
   "source": [
    "** should plot RMSE and GDP **"
   ]
  },
  {
   "cell_type": "code",
   "execution_count": 251,
   "metadata": {
    "collapsed": false,
    "deletable": true,
    "editable": true,
    "scrolled": true
   },
   "outputs": [
    {
     "data": {
      "image/png": "[encoded data removed]",
      "text/plain": [
       "<matplotlib.figure.Figure at 0x115cdd5f8>"
      ]
     },
     "metadata": {},
     "output_type": "display_data"
    },
    {
     "data": {
      "text/plain": [
       "<ggplot: (291294363)>"
      ]
     },
     "execution_count": 251,
     "metadata": {},
     "output_type": "execute_result"
    }
   ],
   "source": [
    "(ggplot(#temporal_results_long[temporal_results_long.model != 'random forest']\n",
    "    temporal_results_long, aes(x='year', color='variable')) + \n",
    "    geom_line(aes(y='value', group='variable')) +\n",
    "    xlab('year') +\n",
    "    ylab('mean squared error') +\n",
    "    facet_wrap('~model')\n",
    ")"
   ]
  },
  {
   "cell_type": "markdown",
   "metadata": {
    "deletable": true,
    "editable": true
   },
   "source": [
    "#### If I were to choose the model with the lowest cross validation error, do I also get the lowest test error?"
   ]
  },
  {
   "cell_type": "code",
   "execution_count": 263,
   "metadata": {
    "collapsed": false,
    "deletable": true,
    "editable": true
   },
   "outputs": [
    {
     "ename": "AttributeError",
     "evalue": "Cannot access callable attribute 'iloc' of 'DataFrameGroupBy' objects, try using the 'apply' method",
     "output_type": "error",
     "traceback": [
      "\u001b[0;31m---------------------------------------------------------------------------\u001b[0m",
      "\u001b[0;31mAttributeError\u001b[0m                            Traceback (most recent call last)",
      "\u001b[0;32m<ipython-input-263-6094547b75ed>\u001b[0m in \u001b[0;36m<module>\u001b[0;34m()\u001b[0m\n\u001b[0;32m----> 1\u001b[0;31m \u001b[0mbest_model_by_cv_error\u001b[0m \u001b[0;34m=\u001b[0m \u001b[0mtemporal_results\u001b[0m\u001b[0;34m.\u001b[0m\u001b[0msort_values\u001b[0m\u001b[0;34m(\u001b[0m\u001b[0;34m[\u001b[0m\u001b[0;34m'year'\u001b[0m\u001b[0;34m,\u001b[0m \u001b[0;34m'cv_error'\u001b[0m\u001b[0;34m]\u001b[0m\u001b[0;34m)\u001b[0m\u001b[0;34m.\u001b[0m\u001b[0mgroupby\u001b[0m\u001b[0;34m(\u001b[0m\u001b[0;34m'year'\u001b[0m\u001b[0;34m)\u001b[0m\u001b[0;34m.\u001b[0m\u001b[0miloc\u001b[0m\u001b[0;34m[\u001b[0m\u001b[0;34m:\u001b[0m\u001b[0;34m,\u001b[0m\u001b[0;36m1\u001b[0m\u001b[0;34m]\u001b[0m  \u001b[0;31m#.first().model\u001b[0m\u001b[0;34m\u001b[0m\u001b[0m\n\u001b[0m\u001b[1;32m      2\u001b[0m \u001b[0;31m#best_model_by_test_error = temporal_results.sort_values(['year', 'test_error']).groupby('year').first().model\u001b[0m\u001b[0;34m\u001b[0m\u001b[0;34m\u001b[0m\u001b[0m\n\u001b[1;32m      3\u001b[0m \u001b[0;31m#best_models = pd.concat([best_model_by_cv_error, best_model_by_test_error], axis=1)\u001b[0m\u001b[0;34m\u001b[0m\u001b[0;34m\u001b[0m\u001b[0m\n\u001b[1;32m      4\u001b[0m \u001b[0;31m#best_models['match'] = best_models.iloc[:,0] == best_models.iloc[:,1]\u001b[0m\u001b[0;34m\u001b[0m\u001b[0;34m\u001b[0m\u001b[0m\n\u001b[1;32m      5\u001b[0m \u001b[0;31m#best_models.head()\u001b[0m\u001b[0;34m\u001b[0m\u001b[0;34m\u001b[0m\u001b[0m\n",
      "\u001b[0;32m~/Desktop/venv3/lib/python3.6/site-packages/pandas/core/groupby.py\u001b[0m in \u001b[0;36m__getattr__\u001b[0;34m(self, attr)\u001b[0m\n\u001b[1;32m    547\u001b[0m             \u001b[0;32mreturn\u001b[0m \u001b[0mself\u001b[0m\u001b[0;34m[\u001b[0m\u001b[0mattr\u001b[0m\u001b[0;34m]\u001b[0m\u001b[0;34m\u001b[0m\u001b[0m\n\u001b[1;32m    548\u001b[0m         \u001b[0;32mif\u001b[0m \u001b[0mhasattr\u001b[0m\u001b[0;34m(\u001b[0m\u001b[0mself\u001b[0m\u001b[0;34m.\u001b[0m\u001b[0mobj\u001b[0m\u001b[0;34m,\u001b[0m \u001b[0mattr\u001b[0m\u001b[0;34m)\u001b[0m\u001b[0;34m:\u001b[0m\u001b[0;34m\u001b[0m\u001b[0m\n\u001b[0;32m--> 549\u001b[0;31m             \u001b[0;32mreturn\u001b[0m \u001b[0mself\u001b[0m\u001b[0;34m.\u001b[0m\u001b[0m_make_wrapper\u001b[0m\u001b[0;34m(\u001b[0m\u001b[0mattr\u001b[0m\u001b[0;34m)\u001b[0m\u001b[0;34m\u001b[0m\u001b[0m\n\u001b[0m\u001b[1;32m    550\u001b[0m \u001b[0;34m\u001b[0m\u001b[0m\n\u001b[1;32m    551\u001b[0m         raise AttributeError(\"%r object has no attribute %r\" %\n",
      "\u001b[0;32m~/Desktop/venv3/lib/python3.6/site-packages/pandas/core/groupby.py\u001b[0m in \u001b[0;36m_make_wrapper\u001b[0;34m(self, name)\u001b[0m\n\u001b[1;32m    561\u001b[0m                    \"using the 'apply' method\".format(kind, name,\n\u001b[1;32m    562\u001b[0m                                                      type(self).__name__))\n\u001b[0;32m--> 563\u001b[0;31m             \u001b[0;32mraise\u001b[0m \u001b[0mAttributeError\u001b[0m\u001b[0;34m(\u001b[0m\u001b[0mmsg\u001b[0m\u001b[0;34m)\u001b[0m\u001b[0;34m\u001b[0m\u001b[0m\n\u001b[0m\u001b[1;32m    564\u001b[0m \u001b[0;34m\u001b[0m\u001b[0m\n\u001b[1;32m    565\u001b[0m         \u001b[0;31m# need to setup the selection\u001b[0m\u001b[0;34m\u001b[0m\u001b[0;34m\u001b[0m\u001b[0m\n",
      "\u001b[0;31mAttributeError\u001b[0m: Cannot access callable attribute 'iloc' of 'DataFrameGroupBy' objects, try using the 'apply' method"
     ]
    }
   ],
   "source": [
    "best_model_by_cv_error = temporal_results.sort_values(['year', 'cv_error']).groupby('year').iloc[:,1]  #.first().model\n",
    "#best_model_by_test_error = temporal_results.sort_values(['year', 'test_error']).groupby('year').first().model\n",
    "#best_models = pd.concat([best_model_by_cv_error, best_model_by_test_error], axis=1)\n",
    "#best_models['match'] = best_models.iloc[:,0] == best_models.iloc[:,1]\n",
    "#best_models.head()"
   ]
  },
  {
   "cell_type": "code",
   "execution_count": 205,
   "metadata": {
    "collapsed": false,
    "deletable": true,
    "editable": true
   },
   "outputs": [
    {
     "data": {
      "text/html": [
       "<div>\n",
       "<style scoped>\n",
       "    .dataframe tbody tr th:only-of-type {\n",
       "        vertical-align: middle;\n",
       "    }\n",
       "\n",
       "    .dataframe tbody tr th {\n",
       "        vertical-align: top;\n",
       "    }\n",
       "\n",
       "    .dataframe thead th {\n",
       "        text-align: right;\n",
       "    }\n",
       "</style>\n",
       "<table border=\"1\" class=\"dataframe\">\n",
       "  <thead>\n",
       "    <tr style=\"text-align: right;\">\n",
       "      <th></th>\n",
       "      <th>model</th>\n",
       "      <th>model</th>\n",
       "      <th>match</th>\n",
       "    </tr>\n",
       "    <tr>\n",
       "      <th>year</th>\n",
       "      <th></th>\n",
       "      <th></th>\n",
       "      <th></th>\n",
       "    </tr>\n",
       "  </thead>\n",
       "  <tbody>\n",
       "    <tr>\n",
       "      <th>1940.0</th>\n",
       "      <td>random forest</td>\n",
       "      <td>elastic</td>\n",
       "      <td>False</td>\n",
       "    </tr>\n",
       "    <tr>\n",
       "      <th>1941.0</th>\n",
       "      <td>random forest</td>\n",
       "      <td>linear</td>\n",
       "      <td>False</td>\n",
       "    </tr>\n",
       "    <tr>\n",
       "      <th>1942.0</th>\n",
       "      <td>ridge</td>\n",
       "      <td>ridge</td>\n",
       "      <td>True</td>\n",
       "    </tr>\n",
       "    <tr>\n",
       "      <th>1943.0</th>\n",
       "      <td>ridge</td>\n",
       "      <td>ridge</td>\n",
       "      <td>True</td>\n",
       "    </tr>\n",
       "    <tr>\n",
       "      <th>1944.0</th>\n",
       "      <td>ridge</td>\n",
       "      <td>elastic</td>\n",
       "      <td>False</td>\n",
       "    </tr>\n",
       "  </tbody>\n",
       "</table>\n",
       "</div>"
      ],
      "text/plain": [
       "                model    model  match\n",
       "year                                 \n",
       "1940.0  random forest  elastic  False\n",
       "1941.0  random forest   linear  False\n",
       "1942.0          ridge    ridge   True\n",
       "1943.0          ridge    ridge   True\n",
       "1944.0          ridge  elastic  False"
      ]
     },
     "execution_count": 205,
     "metadata": {},
     "output_type": "execute_result"
    }
   ],
   "source": [
    "best_model_by_cv_error = temporal_results.sort_values(['year', 'cv_error']).groupby('year').first().model\n",
    "best_model_by_test_error = temporal_results.sort_values(['year', 'test_error']).groupby('year').first().model\n",
    "best_models = pd.concat([best_model_by_cv_error, best_model_by_test_error], axis=1)\n",
    "best_models['match'] = best_models.iloc[:,0] == best_models.iloc[:,1]\n",
    "best_models.head()"
   ]
  },
  {
   "cell_type": "code",
   "execution_count": 259,
   "metadata": {
    "collapsed": false,
    "deletable": true,
    "editable": true
   },
   "outputs": [
    {
     "data": {
      "text/plain": [
       "match\n",
       "False    44\n",
       "True     33\n",
       "Name: match, dtype: int64"
      ]
     },
     "execution_count": 259,
     "metadata": {},
     "output_type": "execute_result"
    }
   ],
   "source": [
    "best_models['match'].groupby(best_models.match).count()"
   ]
  },
  {
   "cell_type": "markdown",
   "metadata": {
    "deletable": true,
    "editable": true
   },
   "source": [
    "Standard practice chooses the model type with the lowest error rate on the validation set. Would that have been the best strategy for this problem? \n",
    "\n",
    "This example has 77 test sets. If we chose the model with the lowest cross validation error to predict e , and 33 times we would have  How likely are we to get at  Let's bootstrap for statistical significance (could also use binomial exact test, available in scipy)"
   ]
  },
  {
   "cell_type": "code",
   "execution_count": 256,
   "metadata": {
    "collapsed": false,
    "deletable": true,
    "editable": true
   },
   "outputs": [
    {
     "data": {
      "text/plain": [
       "0.0516"
      ]
     },
     "execution_count": 256,
     "metadata": {},
     "output_type": "execute_result"
    }
   ],
   "source": [
    "a = np.random.choice(3, (77,10000))\n",
    "b = np.random.choice(3, (77,10000))\n",
    "c = np.equal(a, b)\n",
    "np.mean(c.sum(axis=0) >= 33)"
   ]
  },
  {
   "cell_type": "code",
   "execution_count": null,
   "metadata": {
    "collapsed": true,
    "deletable": true,
    "editable": true
   },
   "outputs": [],
   "source": []
  },
  {
   "cell_type": "code",
   "execution_count": 226,
   "metadata": {
    "collapsed": false,
    "deletable": true,
    "editable": true
   },
   "outputs": [
    {
     "data": {
      "image/png": "[encoded data removed]",
      "text/plain": [
       "<matplotlib.figure.Figure at 0x114efd4e0>"
      ]
     },
     "metadata": {},
     "output_type": "display_data"
    },
    {
     "data": {
      "text/plain": [
       "<ggplot: (290369295)>"
      ]
     },
     "execution_count": 226,
     "metadata": {},
     "output_type": "execute_result"
    }
   ],
   "source": [
    "(ggplot(best_models, aes(x=best_models.index, y=best_models.match)) +\n",
    "    geom_point() +\n",
    "    xlab('year') +\n",
    "    ylab('same model type is best for cv and test')\n",
    ")"
   ]
  },
  {
   "cell_type": "code",
   "execution_count": 190,
   "metadata": {
    "collapsed": false,
    "deletable": true,
    "editable": true
   },
   "outputs": [
    {
     "data": {
      "text/plain": [
       "year\n",
       "1940.0    111.173827\n",
       "1941.0    116.998936\n",
       "1942.0    371.889946\n",
       "1943.0    355.907023\n",
       "1944.0    284.995931\n",
       "Name: cv_error, dtype: float64"
      ]
     },
     "execution_count": 190,
     "metadata": {},
     "output_type": "execute_result"
    }
   ],
   "source": [
    "x = temporal_results['cv_error'].groupby(temporal_results.year).min()\n",
    "x.head()"
   ]
  },
  {
   "cell_type": "markdown",
   "metadata": {
    "deletable": true,
    "editable": true
   },
   "source": [
    "#### Plot MSE for standard and temporal strategies for each validation \n",
    "Standard CV almost always gives lower error rates because you've leaked information, and the differences are especially big when there is a shock or regime change (e.g. financial crisis)"
   ]
  },
  {
   "cell_type": "code",
   "execution_count": 260,
   "metadata": {
    "collapsed": true,
    "deletable": true,
    "editable": true
   },
   "outputs": [],
   "source": [
    "standard_cv_results['cv_type'] = 'standard'\n",
    "temporal_cv_results['cv_type'] = 'temporal'\n",
    "cv_results = pd.concat([standard_cv_results, temporal_cv_results])"
   ]
  },
  {
   "cell_type": "code",
   "execution_count": 261,
   "metadata": {
    "collapsed": false,
    "deletable": true,
    "editable": true
   },
   "outputs": [
    {
     "data": {
      "text/html": [
       "<div>\n",
       "<style scoped>\n",
       "    .dataframe tbody tr th:only-of-type {\n",
       "        vertical-align: middle;\n",
       "    }\n",
       "\n",
       "    .dataframe tbody tr th {\n",
       "        vertical-align: top;\n",
       "    }\n",
       "\n",
       "    .dataframe thead th {\n",
       "        text-align: right;\n",
       "    }\n",
       "</style>\n",
       "<table border=\"1\" class=\"dataframe\">\n",
       "  <thead>\n",
       "    <tr style=\"text-align: right;\">\n",
       "      <th></th>\n",
       "      <th>linear_se</th>\n",
       "      <th>ridge_se</th>\n",
       "      <th>elastic_se</th>\n",
       "      <th>random_forest_se</th>\n",
       "      <th>cv_type</th>\n",
       "    </tr>\n",
       "    <tr>\n",
       "      <th>year</th>\n",
       "      <th></th>\n",
       "      <th></th>\n",
       "      <th></th>\n",
       "      <th></th>\n",
       "      <th></th>\n",
       "    </tr>\n",
       "  </thead>\n",
       "  <tbody>\n",
       "    <tr>\n",
       "      <th>1988</th>\n",
       "      <td>2090.078878</td>\n",
       "      <td>3223.115129</td>\n",
       "      <td>9547.677698</td>\n",
       "      <td>150009.0361</td>\n",
       "      <td>standard</td>\n",
       "    </tr>\n",
       "    <tr>\n",
       "      <th>1989</th>\n",
       "      <td>6603.851820</td>\n",
       "      <td>8485.857735</td>\n",
       "      <td>17560.710271</td>\n",
       "      <td>40666.7556</td>\n",
       "      <td>standard</td>\n",
       "    </tr>\n",
       "    <tr>\n",
       "      <th>1990</th>\n",
       "      <td>411.215297</td>\n",
       "      <td>735.700713</td>\n",
       "      <td>2820.090753</td>\n",
       "      <td>3075.8116</td>\n",
       "      <td>standard</td>\n",
       "    </tr>\n",
       "    <tr>\n",
       "      <th>1991</th>\n",
       "      <td>101.539354</td>\n",
       "      <td>151.839853</td>\n",
       "      <td>454.545031</td>\n",
       "      <td>340600.6321</td>\n",
       "      <td>standard</td>\n",
       "    </tr>\n",
       "    <tr>\n",
       "      <th>1992</th>\n",
       "      <td>17321.389288</td>\n",
       "      <td>15134.425808</td>\n",
       "      <td>8135.012647</td>\n",
       "      <td>118900.8324</td>\n",
       "      <td>standard</td>\n",
       "    </tr>\n",
       "  </tbody>\n",
       "</table>\n",
       "</div>"
      ],
      "text/plain": [
       "         linear_se      ridge_se    elastic_se  random_forest_se   cv_type\n",
       "year                                                                      \n",
       "1988   2090.078878   3223.115129   9547.677698       150009.0361  standard\n",
       "1989   6603.851820   8485.857735  17560.710271        40666.7556  standard\n",
       "1990    411.215297    735.700713   2820.090753         3075.8116  standard\n",
       "1991    101.539354    151.839853    454.545031       340600.6321  standard\n",
       "1992  17321.389288  15134.425808   8135.012647       118900.8324  standard"
      ]
     },
     "execution_count": 261,
     "metadata": {},
     "output_type": "execute_result"
    }
   ],
   "source": [
    "cv_results.head()"
   ]
  },
  {
   "cell_type": "code",
   "execution_count": 262,
   "metadata": {
    "collapsed": true,
    "deletable": true,
    "editable": true
   },
   "outputs": [],
   "source": [
    "cv_results['year'] = cv_results.index"
   ]
  },
  {
   "cell_type": "code",
   "execution_count": 263,
   "metadata": {
    "collapsed": false,
    "deletable": true,
    "editable": true
   },
   "outputs": [
    {
     "data": {
      "text/html": [
       "<div>\n",
       "<style scoped>\n",
       "    .dataframe tbody tr th:only-of-type {\n",
       "        vertical-align: middle;\n",
       "    }\n",
       "\n",
       "    .dataframe tbody tr th {\n",
       "        vertical-align: top;\n",
       "    }\n",
       "\n",
       "    .dataframe thead th {\n",
       "        text-align: right;\n",
       "    }\n",
       "</style>\n",
       "<table border=\"1\" class=\"dataframe\">\n",
       "  <thead>\n",
       "    <tr style=\"text-align: right;\">\n",
       "      <th></th>\n",
       "      <th>year</th>\n",
       "      <th>cv_type</th>\n",
       "      <th>variable</th>\n",
       "      <th>value</th>\n",
       "    </tr>\n",
       "  </thead>\n",
       "  <tbody>\n",
       "    <tr>\n",
       "      <th>0</th>\n",
       "      <td>1988</td>\n",
       "      <td>standard</td>\n",
       "      <td>linear_se</td>\n",
       "      <td>2090.078878</td>\n",
       "    </tr>\n",
       "    <tr>\n",
       "      <th>1</th>\n",
       "      <td>1989</td>\n",
       "      <td>standard</td>\n",
       "      <td>linear_se</td>\n",
       "      <td>6603.851820</td>\n",
       "    </tr>\n",
       "    <tr>\n",
       "      <th>2</th>\n",
       "      <td>1990</td>\n",
       "      <td>standard</td>\n",
       "      <td>linear_se</td>\n",
       "      <td>411.215297</td>\n",
       "    </tr>\n",
       "    <tr>\n",
       "      <th>3</th>\n",
       "      <td>1991</td>\n",
       "      <td>standard</td>\n",
       "      <td>linear_se</td>\n",
       "      <td>101.539354</td>\n",
       "    </tr>\n",
       "    <tr>\n",
       "      <th>4</th>\n",
       "      <td>1992</td>\n",
       "      <td>standard</td>\n",
       "      <td>linear_se</td>\n",
       "      <td>17321.389288</td>\n",
       "    </tr>\n",
       "  </tbody>\n",
       "</table>\n",
       "</div>"
      ],
      "text/plain": [
       "   year   cv_type   variable         value\n",
       "0  1988  standard  linear_se   2090.078878\n",
       "1  1989  standard  linear_se   6603.851820\n",
       "2  1990  standard  linear_se    411.215297\n",
       "3  1991  standard  linear_se    101.539354\n",
       "4  1992  standard  linear_se  17321.389288"
      ]
     },
     "execution_count": 263,
     "metadata": {},
     "output_type": "execute_result"
    }
   ],
   "source": [
    "cv_results_long = pd.melt(cv_results, id_vars=['year', 'cv_type'])\n",
    "cv_results_long.head()"
   ]
  },
  {
   "cell_type": "code",
   "execution_count": 279,
   "metadata": {
    "collapsed": false,
    "deletable": true,
    "editable": true
   },
   "outputs": [
    {
     "data": {
      "text/plain": [
       "variable          cv_type \n",
       "ridge_se          standard      44689.0\n",
       "linear_se         standard      44727.0\n",
       "elastic_se        standard      46154.0\n",
       "                  temporal      56980.0\n",
       "ridge_se          temporal      57742.0\n",
       "linear_se         temporal      81451.0\n",
       "random_forest_se  standard     212590.0\n",
       "                  temporal    1027680.0\n",
       "Name: value, dtype: float64"
      ]
     },
     "execution_count": 279,
     "metadata": {},
     "output_type": "execute_result"
    }
   ],
   "source": [
    "cv_results_long['value'].groupby([cv_results_long['variable'], cv_results_long['cv_type']]).mean().round(0).sort_values()"
   ]
  },
  {
   "cell_type": "code",
   "execution_count": 264,
   "metadata": {
    "collapsed": false,
    "deletable": true,
    "editable": true
   },
   "outputs": [
    {
     "data": {
      "image/png": "[encoded data removed]",
      "text/plain": [
       "<matplotlib.figure.Figure at 0x115e65d68>"
      ]
     },
     "metadata": {},
     "output_type": "display_data"
    },
    {
     "data": {
      "text/plain": [
       "<ggplot: (-9223372036571730579)>"
      ]
     },
     "execution_count": 264,
     "metadata": {},
     "output_type": "execute_result"
    }
   ],
   "source": [
    "(ggplot(cv_results_long, aes(color='cv_type')) + \n",
    "    geom_line(aes(x='year', y='value', group='cv_type')) +\n",
    "    xlab('year') +\n",
    "    ylab('squared error') +\n",
    "    facet_wrap('~variable')\n",
    ")"
   ]
  },
  {
   "cell_type": "markdown",
   "metadata": {
    "deletable": true,
    "editable": true
   },
   "source": [
    "There are some similarities with the standard CV results:\n",
    "\n",
    "* Each CV approach gives the same accuracy on the last validation set (2009). That's because the train and validation sets are the same (train up to 2008, validate on 2009). \n",
    "* The least squares models offer similar performance. It's \n",
    "\n",
    "But there are plenty of differences:\n",
    "\n",
    "* The most accurate model for standard CV (as measured by mean squared error on the validation data) is ridge regression. For temporal CV, it is ridge regression. They're related -- both use OLS with an L2 penalty -- but elasticnet also includes an L1 penalty.\n",
    "* Standard CV gives lower MSE than temporal CV. That's what we'd expect, given that standard CV leaks information. \n",
    "\n",
    "\n",
    "\n",
    "\n",
    "\n",
    "These results suggest we should use *elastic net* -- a different (though related) type of model than what standard CV\n",
    "suggested."
   ]
  },
  {
   "cell_type": "code",
   "execution_count": null,
   "metadata": {
    "collapsed": true,
    "deletable": true,
    "editable": true
   },
   "outputs": [],
   "source": []
  },
  {
   "cell_type": "code",
   "execution_count": null,
   "metadata": {
    "collapsed": true,
    "deletable": true,
    "editable": true
   },
   "outputs": [],
   "source": []
  },
  {
   "cell_type": "code",
   "execution_count": null,
   "metadata": {
    "collapsed": true,
    "deletable": true,
    "editable": true
   },
   "outputs": [],
   "source": []
  },
  {
   "cell_type": "code",
   "execution_count": null,
   "metadata": {
    "collapsed": true,
    "deletable": true,
    "editable": true
   },
   "outputs": [],
   "source": []
  },
  {
   "cell_type": "code",
   "execution_count": null,
   "metadata": {
    "collapsed": true,
    "deletable": true,
    "editable": true
   },
   "outputs": [],
   "source": []
  },
  {
   "cell_type": "code",
   "execution_count": null,
   "metadata": {
    "collapsed": true,
    "deletable": true,
    "editable": true
   },
   "outputs": [],
   "source": []
  },
  {
   "cell_type": "markdown",
   "metadata": {
    "deletable": true,
    "editable": true
   },
   "source": [
    "# Future\n",
    "* Think about standard CV. The earlier the CV fold, the less like our problem. \n",
    "(The first fold is exactly the opposite because it is purely postdiction.) \n",
    "This is another possible way to show that validation setup should mimic our problem. "
   ]
  },
  {
   "cell_type": "markdown",
   "metadata": {
    "deletable": true,
    "editable": true
   },
   "source": []
  },
  {
   "cell_type": "code",
   "execution_count": null,
   "metadata": {
    "collapsed": true,
    "deletable": true,
    "editable": true
   },
   "outputs": [],
   "source": []
  }
 ],
 "metadata": {
  "kernelspec": {
   "display_name": "Python 3",
   "language": "python",
   "name": "python3"
  },
  "language_info": {
   "codemirror_mode": {
    "name": "ipython",
    "version": 3
   },
   "file_extension": ".py",
   "mimetype": "text/x-python",
   "name": "python",
   "nbconvert_exporter": "python",
   "pygments_lexer": "ipython3",
   "version": "3.6.0"
  }
 },
 "nbformat": 4,
 "nbformat_minor": 2
}
